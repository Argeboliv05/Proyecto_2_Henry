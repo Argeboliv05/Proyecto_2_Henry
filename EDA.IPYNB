{
 "cells": [
  {
   "cell_type": "markdown",
   "metadata": {},
   "source": [
    "# Análisis Exploratorio de Datos: Velocidad Media de Internet por Provincia\n",
    "\n",
    "**Autor:** Argenis Bolivar\n",
    "\n",
    "## Introducción\n",
    "\n",
    "En este documento, se realiza un Análisis Exploratorio de Datos (EDA) utilizando información de la velocidad media de internet en las provincias de Argentina. Este estudio tiene como objetivo identificar patrones, tendencias temporales y variaciones geográficas, así como relacionar esta variable con otros factores relevantes como el uso de tecnologías de conexión.\n",
    "\n",
    "El EDA permitirá:\n",
    "- Evaluar la calidad y estructura de los datos.\n",
    "- Describir y visualizar la distribución de la velocidad media.\n",
    "- Explorar posibles correlaciones y tendencias relevantes."
   ]
  },
  {
   "cell_type": "markdown",
   "metadata": {},
   "source": [
    "## Importar Librerias"
   ]
  },
  {
   "cell_type": "code",
   "execution_count": null,
   "metadata": {},
   "outputs": [],
   "source": [
    "import matplotlib.pyplot as plt\n",
    "import pandas as pd\n",
    "import plotly.graph_objects as go\n",
    "import geopandas as gpd\n",
    "from scipy.stats import pearsonr\n",
    "from sklearn.linear_model import LinearRegression\n"
   ]
  },
  {
   "cell_type": "markdown",
   "metadata": {},
   "source": [
    "## Carga de Datos"
   ]
  },
  {
   "cell_type": "code",
   "execution_count": null,
   "metadata": {},
   "outputs": [],
   "source": [
    "df_vel_media_provincia = pd.read_csv('./Datasets/vel_media_provincia.csv')\n",
    "df_penetracion_hogar= pd.read_csv('./Datasets/Penetarcion_hogar.csv')\n",
    "df_penetracion_poblac= pd.read_csv('./Datasets/Penetarcion_Poblacion.csv')\n",
    "df_tecnologia_provincia= pd.read_csv('./Datasets/Tecnologia_provincia.csv')"
   ]
  },
  {
   "cell_type": "code",
   "execution_count": null,
   "metadata": {},
   "outputs": [],
   "source": [
    "df_vel_media_provincia['Fecha'] = pd.to_datetime(df_vel_media_provincia['Fecha'])\n",
    "df_penetracion_hogar['Fecha'] = pd.to_datetime(df_penetracion_hogar['Fecha'])\n",
    "df_penetracion_poblac['Fecha'] = pd.to_datetime(df_penetracion_poblac['Fecha'])\n",
    "df_tecnologia_provincia['Fecha'] = pd.to_datetime(df_tecnologia_provincia['Fecha'])"
   ]
  },
  {
   "cell_type": "markdown",
   "metadata": {},
   "source": [
    "## Plan de Analisis\n",
    "\n",
    "1. Patrones y tendencias temporales: Analizar cómo ha cambiado la velocidad media de internet a través del tiempo, tanto a nivel nacional como por provincia.\n",
    "\n",
    "2. Variaciones geográficas:Explorar las diferencias en la velocidad media entre provincias y visualizarlo en un mapa.\n",
    "\n",
    "3. Relación con tecnologías de conexión:Identificar cómo las tecnologías (ADSL, Fibra Óptica, etc.) están asociadas con la velocidad media en cada provincia.\n"
   ]
  },
  {
   "cell_type": "markdown",
   "metadata": {},
   "source": [
    "## 1. Patrones y tendencias temporales: Analizar cómo ha cambiado la velocidad media de internet a través del tiempo, tanto a nivel nacional como por provincia.\n"
   ]
  },
  {
   "cell_type": "code",
   "execution_count": null,
   "metadata": {},
   "outputs": [],
   "source": [
    "# 1.a) Analizar tendencias temporales de la velocidad media de internet a nivel nacional\n",
    "\n",
    "# Agrupar los datos por año y calcular la media nacional\n",
    "velocidad_anual = df_vel_media_provincia.copy()\n",
    "velocidad_anual[\"Fecha\"] = pd.to_datetime(velocidad_anual[\"Fecha\"])\n",
    "velocidad_anual[\"Año\"] = velocidad_anual[\"Fecha\"].dt.year\n",
    "velocidad_anual[\"Velocidad Media (Mbps)\"] = velocidad_anual[\"Mbps (Media de bajada)\"]\n",
    "\n",
    "tendencias_nacionales = velocidad_anual.groupby(\"Año\")[\"Mbps (Media de bajada)\"].mean().reset_index()\n",
    "\n",
    "# Visualizar la tendencia con un gráfico de línea\n",
    "\n",
    "plt.figure(figsize=(10, 6))\n",
    "plt.plot(\n",
    "    tendencias_nacionales[\"Año\"],\n",
    "    tendencias_nacionales[\"Mbps (Media de bajada)\"],\n",
    "    marker=\"o\",\n",
    "    linestyle=\"-\",\n",
    ")\n",
    "plt.title(\"Tendencia Nacional de la Velocidad Media de Internet\", fontsize=16)\n",
    "plt.xlabel(\"Año\", fontsize=12)\n",
    "plt.ylabel(\"Velocidad Media (Mbps)\", fontsize=12)\n",
    "plt.grid(True)\n",
    "plt.show()"
   ]
  },
  {
   "cell_type": "code",
   "execution_count": null,
   "metadata": {},
   "outputs": [],
   "source": [
    "print(tendencias_nacionales)\n",
    "#Obsevamos una tabla del promedio de Velocidad de Bajada por Año"
   ]
  },
  {
   "cell_type": "code",
   "execution_count": null,
   "metadata": {},
   "outputs": [],
   "source": [
    "        #1.b) Agrupar los datos por año y provincia para calcular la velocidad media por provincia\n",
    "\n",
    "tendencias_provincias = velocidad_anual.groupby([\"Año\", \"Provincia\"])[\"Mbps (Media de bajada)\"].mean().reset_index()\n",
    "\n",
    "# Crear un gráfico de líneas para mostrar las tendencias por provincia\n",
    "plt.figure(figsize=(14, 8))\n",
    "\n",
    "# Iterar por cada provincia y trazar su tendencia\n",
    "provincias = tendencias_provincias[\"Provincia\"].unique()\n",
    "for provincia in provincias:\n",
    "    datos_provincia = tendencias_provincias[tendencias_provincias[\"Provincia\"] == provincia]\n",
    "    plt.plot(\n",
    "        datos_provincia[\"Año\"],\n",
    "        datos_provincia[\"Mbps (Media de bajada)\"],\n",
    "        label=provincia,\n",
    "        alpha=0.7,\n",
    "    )\n",
    "\n",
    "plt.title(\"Tendencias de Velocidad Media de Internet por Provincia\", fontsize=16)\n",
    "plt.xlabel(\"Año\", fontsize=12)\n",
    "plt.ylabel(\"Velocidad Media (Mbps)\", fontsize=12)\n",
    "plt.legend(loc=\"upper left\", bbox_to_anchor=(1.05, 1), title=\"Provincias\", fontsize=10)\n",
    "plt.grid(True)\n",
    "plt.tight_layout()\n",
    "plt.show()\n"
   ]
  },
  {
   "cell_type": "markdown",
   "metadata": {},
   "source": [
    "El gráfico muestra las tendencias de velocidad media de internet por provincia a lo largo de los años. Cada línea representa una provincia, lo que permite observar diferencias en la evolución de las velocidades.\n",
    "\n",
    "## Observaciones:\n",
    "Las provincias tienen patrones de crecimiento diferenciados.\n",
    "Algunas han experimentado incrementos más significativos en comparación con otras. Revisemos cual provincia crecio mas\n"
   ]
  },
  {
   "cell_type": "code",
   "execution_count": null,
   "metadata": {},
   "outputs": [],
   "source": [
    "vel_media_provincial = velocidad_anual.pivot(\n",
    "    index=\"Fecha\", columns=\"Provincia\", values=\"Mbps (Media de bajada)\")"
   ]
  },
  {
   "cell_type": "code",
   "execution_count": null,
   "metadata": {},
   "outputs": [],
   "source": [
    "# Calcular el crecimiento porcentual de la velocidad media para cada provincia\n",
    "\n",
    "# Se reestructura el dataframe para ordenar en funcion de la fecha y como columnas enten las Provincias\n",
    "vel_media_provincial = velocidad_anual.pivot(\n",
    "    index=\"Fecha\", columns=\"Provincia\", values=\"Mbps (Media de bajada)\")\n",
    "\n",
    "\n",
    "vel_media_crecimiento = vel_media_provincial.pct_change().mean() * 100\n",
    "\n",
    "# Ordenar provincias por mayor crecimiento promedio\n",
    "vel_media_crecimiento_sorted = vel_media_crecimiento.sort_values(ascending=False)\n",
    "\n",
    "# Visualizar el crecimiento porcentual promedio\n",
    "plt.figure(figsize=(10, 6))\n",
    "vel_media_crecimiento_sorted.plot(kind=\"bar\", edgecolor='black')\n",
    "plt.title(\"Crecimiento Promedio de Velocidad Media por Provincia (%)\", fontsize=14)\n",
    "plt.xlabel(\"Provincia\", fontsize=12)\n",
    "plt.ylabel(\"Crecimiento Promedio (%)\", fontsize=12)\n",
    "plt.grid(axis='y', linestyle='--', alpha=0.7)\n",
    "plt.xticks(rotation=45)\n",
    "plt.tight_layout()\n",
    "plt.show()\n"
   ]
  },
  {
   "cell_type": "markdown",
   "metadata": {},
   "source": [
    "El gráfico muestra el crecimiento promedio porcentual de la velocidad media de internet por provincia. Este análisis destaca cuáles provincias han tenido mayores avances en velocidad promedio durante el período analizado.\n"
   ]
  },
  {
   "cell_type": "markdown",
   "metadata": {},
   "source": [
    "## 2. Relación de Velocidad Promedio de Bajada con Tecnologías de Conexión\n",
    "- Comparación de velocidades medias donde predomina una tecnología específica.\n",
    "- Estudiar cómo el uso de cada tecnología ha cambiado en el tiempo y si estas variaciones afectan la velocidad media.\n"
   ]
  },
  {
   "cell_type": "markdown",
   "metadata": {},
   "source": [
    "2.1. Comparación de velocidades medias donde predomina una tecnología específica."
   ]
  },
  {
   "cell_type": "code",
   "execution_count": null,
   "metadata": {},
   "outputs": [],
   "source": [
    "# Analizar la influencia de las tecnologías en la velocidad media\n",
    "\n",
    "# Integrar los datos de tecnologías con velocidad media\n",
    "data = pd.merge(df_tecnologia_provincia, df_vel_media_provincia, on=[\"Provincia\", \"Fecha\"], how=\"inner\")\n",
    "\n",
    "# Calcular la proporción de cada tecnología en el total por provincia\n",
    "tecnologias = [\"ADSL\", \"Cablemodem\", \"Fibra óptica\", \"Wireless\", \"Otros\"]\n",
    "for tecnologia in tecnologias:\n",
    "    data[f\"prop_{tecnologia}\"] = data[tecnologia] / data[\"Total\"]\n",
    "\n",
    "# Análisis por tecnología predominante\n",
    "data[\"Tecnologia_Predominante\"] = data[tecnologias].idxmax(axis=1)\n",
    "\n",
    "# Promedio de velocidad media por tecnología predominante\n",
    "vel_media_tecnologia = data.groupby(\"Tecnologia_Predominante\")[\"Mbps (Media de bajada)\"].mean().sort_values(ascending=False)\n",
    "\n",
    "# Cambios en el tiempo: evolución del uso de tecnologías\n",
    "tend_tecnol = data.groupby(\"Fecha\")[tecnologias].sum()\n",
    "tendencia = tend_tecnol.div(tend_tecnol.sum(axis=1), axis=0)\n",
    "\n",
    "vel_media_tecnologia, tendencia.tail()  # Mostrar resumen del análisis\n"
   ]
  },
  {
   "cell_type": "markdown",
   "metadata": {},
   "source": [
    "Este ultimo codigo analiza la evolución del uso de tecnologías de conexión en el tiempo, calculando cómo cambia la proporción de cada tecnología en el total de conexiones para cada fecha."
   ]
  },
  {
   "cell_type": "code",
   "execution_count": null,
   "metadata": {},
   "outputs": [],
   "source": [
    "# Visualización de la velocidad media por tecnología predominante\n",
    "plt.figure(figsize=(10, 6))\n",
    "vel_media_tecnologia.sort_values().plot(kind='barh', color='skyblue', edgecolor='black')\n",
    "plt.title(\"Velocidad Media por Tecnología Predominante\")\n",
    "plt.xlabel(\"Velocidad Media (Mbps)\")\n",
    "plt.ylabel(\"Tecnología Predominante\")\n",
    "plt.grid(axis='x', linestyle='--', alpha=0.7)\n",
    "plt.show()"
   ]
  },
  {
   "cell_type": "markdown",
   "metadata": {},
   "source": [
    "Resultados del Análisis de Influencia de las Tecnologías:\n",
    "\n",
    "\n",
    "1. Velocidad Media por Tecnología Predominante:\n",
    "\n",
    "- Fibra Óptica tiene la mayor velocidad media de descarga con 63.23 Mbps, confirmando su capacidad superior en comparación con otras tecnologías.\n",
    "- Wireless y Cablemodem siguen con velocidades medias de 43.92 Mbps y 37.05 Mbps, respectivamente.\n",
    "- ADSL y Otros presentan velocidades significativamente más bajas, con 7.45 Mbps y 8.56 Mbps, indicando que son tecnologías menos efectivas para altas velocidades.\n",
    "\n",
    "2. Tendencias en el Uso de Tecnologías (2023-2024):\n",
    "\n",
    "- La proporción de conexiones por Fibra Óptica ha aumentado gradualmente, de 28.85% en enero de 2023 a 34.51% en enero de 2024, lo que sugiere una transición hacia tecnologías más avanzadas.\n",
    "- Cablemodem sigue siendo la tecnología más utilizada, aunque su participación ha disminuido ligeramente de 53.39% a 51.46%.\n",
    "- El uso de ADSL ha disminuido constantemente, cayendo de 10.71% a 6.66%, reflejando un abandono progresivo de esta tecnología más antigua.\n"
   ]
  },
  {
   "cell_type": "markdown",
   "metadata": {},
   "source": [
    "Implicaciones:\n",
    "\n",
    "1. Fibra Óptica es clave para mejorar velocidades:\n",
    "\n",
    "    Provincias con alta penetración de Fibra Óptica disfrutan de velocidades más altas, lo que sugiere que la expansión de esta tecnología debería ser una prioridad.\n",
    "\n",
    "2. ADSL y Wireless requieren revisión:\n",
    "\n",
    "    Las provincias que dependen en gran medida de estas tecnologías podrían beneficiarse significativamente de un plan para actualizar su infraestructura.\n",
    "\n",
    "3. Cablemodem mantiene su relevancia:\n",
    "\n",
    "    Aunque no es la tecnología más avanzada, sigue siendo una opción importante para áreas donde la Fibra Óptica aún no está disponible."
   ]
  },
  {
   "cell_type": "markdown",
   "metadata": {},
   "source": [
    "2.2. Estudiar cómo el uso de cada tecnología ha cambiado en el tiempo y si estas variaciones afectan la velocidad media."
   ]
  },
  {
   "cell_type": "code",
   "execution_count": null,
   "metadata": {},
   "outputs": [],
   "source": [
    "# Visualización de la evolución de las proporciones de uso de tecnologías\n",
    "tendencia.plot(kind=\"line\", figsize=(12, 8), linewidth=2, marker='o', alpha=0.8)\n",
    "plt.title(\"Evolución del Uso de Tecnologías (2023-2024)\")\n",
    "plt.ylabel(\"Proporción del Total de Conexiones\")\n",
    "plt.xlabel(\"Fecha\")\n",
    "plt.xticks(rotation=45)\n",
    "plt.legend(title=\"Tecnología\", bbox_to_anchor=(1.05, 1), loc='upper left')\n",
    "plt.grid(axis='y', linestyle='--', alpha=0.7)\n",
    "plt.tight_layout()\n",
    "plt.show()\n"
   ]
  },
  {
   "cell_type": "markdown",
   "metadata": {},
   "source": [
    "Evolución del Uso de Tecnologías:\n",
    "\n",
    "- Fibra Óptica muestra un aumento constante en su proporción, reflejando su adopción creciente.\n",
    "- Aunque Cablemodem sigue siendo la tecnología más utilizada, su proporción está disminuyendo lentamente.\n",
    "- ADSL tiene una caída notable en uso, indicando su obsolescencia progresiva."
   ]
  },
  {
   "cell_type": "code",
   "execution_count": null,
   "metadata": {},
   "outputs": [],
   "source": [
    "# Correlación entre proporciones de tecnologías y velocidad media\n",
    "correlacion_tecnologias = data[[\"Mbps (Media de bajada)\"] + [f\"prop_{tecnologia}\" for tecnologia in tecnologias]].corr()\n",
    "\n",
    "# Extraer solo las correlaciones de las proporciones de tecnologías con la velocidad media\n",
    "correlacion_veloc_tecnologia = correlacion_tecnologias.loc[\"Mbps (Media de bajada)\", [f\"prop_{tecnologia}\" for tecnologia in tecnologias]]\n",
    "\n",
    "print(correlacion_veloc_tecnologia)"
   ]
  },
  {
   "cell_type": "code",
   "execution_count": null,
   "metadata": {},
   "outputs": [],
   "source": [
    "# Visualización de la correlación entre tecnologías y velocidad media\n",
    "\n",
    "# Crear un gráfico de barras para mostrar las correlaciones\n",
    "plt.figure(figsize=(10, 6))\n",
    "correlacion_veloc_tecnologia.sort_values().plot(kind='barh', color='skyblue', edgecolor='black')\n",
    "plt.title(\"Correlación entre Tecnologías y Velocidad Media\")\n",
    "plt.xlabel(\"Coeficiente de Correlación\")\n",
    "plt.ylabel(\"Tecnologías\")\n",
    "plt.grid(axis='x', linestyle='--', alpha=0.7)\n",
    "plt.tight_layout()\n",
    "plt.show()\n"
   ]
  },
  {
   "cell_type": "markdown",
   "metadata": {},
   "source": [
    "1. Correlación entre Tecnologías y Velocidad Media:\n",
    "\n",
    "- Fibra Óptica: Correlación positiva fuerte (0.641), indicando que a mayor proporción de conexiones de fibra óptica en una provincia, mayor es la velocidad media.\n",
    "- Cablemodem: Correlación positiva moderada (0.303), mostrando que esta tecnología también contribuye a velocidades más altas, aunque menos que la fibra óptica.\n",
    "- Wireless: Correlación débil positiva (0.095), sugiriendo que su impacto en las velocidades es limitado, posiblemente debido a restricciones tecnológicas o de infraestructura.\n",
    "- ADSL: Correlación negativa significativa (-0.587), indicando que las provincias con mayor dependencia de ADSL tienen velocidades más bajas en general, lo que refuerza su estatus como una tecnología obsoleta."
   ]
  },
  {
   "cell_type": "markdown",
   "metadata": {},
   "source": [
    "2. Implicaciones:\n",
    "- Fibra Óptica es clave para altas velocidades: Provincias que prioricen la expansión de esta tecnología pueden experimentar mejoras significativas en la velocidad.\n",
    "- Cablemodem sigue siendo relevante: Aunque no tan efectiva como la fibra óptica, sigue siendo una tecnología viable para aumentar las velocidades.\n",
    "- ADSL requiere atención urgente:Provincias con alta dependencia de ADSL están rezagadas en términos de velocidad, y deberían priorizar la transición a tecnologías más avanzadas."
   ]
  },
  {
   "cell_type": "markdown",
   "metadata": {},
   "source": [
    "## 3. Penetracion de Tecnologia\n",
    "Explorar las diferencias en la velocidad media y la penetración de accesos (penetracion_poblac y penetracion_hogar) entre provincias.\n",
    "Crear visualizaciones geográficas (mapas) para identificar patrones espaciales. Por ejemplo:\n",
    "Mapa de calor para la velocidad media por provincia.\n",
    "Mapa de penetración de accesos por población y hogares.\n"
   ]
  },
  {
   "cell_type": "markdown",
   "metadata": {},
   "source": [
    "3.1. Explorar las diferencias en la velocidad media y la penetración de accesos (penetracion_poblac y penetracion_hogar) entre provincias.\n",
    "Crear visualizaciones geográficas (mapas) para identificar patrones espaciales."
   ]
  },
  {
   "cell_type": "code",
   "execution_count": null,
   "metadata": {},
   "outputs": [],
   "source": [
    "# Unificar dataset: Combimnar los datos en un solo Dataframe para analisis cruzados\n",
    "merged_data = pd.merge(df_penetracion_hogar, df_penetracion_poblac, on=[\"Provincia\", \"Fecha\"], how=\"inner\")\n",
    "merged_data = pd.merge(merged_data, df_tecnologia_provincia, on=[\"Provincia\", \"Fecha\"], how=\"inner\")\n",
    "merged_data = pd.merge(merged_data, df_vel_media_provincia, on=[\"Provincia\", \"Fecha\"], how=\"inner\")\n",
    "\n",
    "# Renombrar columnas para su facil entendimeinto\n",
    "merged_data.rename(columns={\n",
    "    \"Accesos por cada 100 hogares\": \"Penetración_hogar\",\n",
    "    \"Accesos por cada 100 hab\": \"Penetración_población\",\n",
    "    \"Mbps (Media de bajada)\": \"Velocidad_media\"\n",
    "}, inplace=True)\n",
    "\n",
    "merged_data.drop(columns= [\"Unnamed: 0_x\", \"Unnamed: 0_y\"], inplace=True)"
   ]
  },
  {
   "cell_type": "code",
   "execution_count": null,
   "metadata": {},
   "outputs": [],
   "source": [
    "# Visualizacion Inicial: Comparar velocidad media y penetracion entre provincias\n",
    "\n",
    "import seaborn as sns\n",
    "\n",
    "# Scatter Plot: Velocidad Media vs. Penetración por Población\n",
    "plt.figure(figsize=(16, 6))\n",
    "sns.scatterplot(\n",
    "    data=merged_data, \n",
    "    x='Penetración_población', \n",
    "    y='Velocidad_media', \n",
    "    hue='Provincia', \n",
    "    marker='x',  \n",
    "    s=100)\n",
    "plt.title('Relación entre Velocidad Media y Penetración por Población', fontsize=14)\n",
    "plt.xlabel('Penetración por Población (%)', fontsize=12)\n",
    "plt.ylabel('Velocidad Media (Mbps)', fontsize=12)\n",
    "plt.legend(bbox_to_anchor=(1.05, 1), loc='upper left', title='Provincia')\n",
    "plt.grid(True, linestyle='--', alpha=0.6)\n",
    "plt.tight_layout()\n",
    "plt.show()\n",
    "\n",
    "# Scatter Plot: Velocidad Media vs. Penetración por Hogares\n",
    "plt.figure(figsize=(16, 6))\n",
    "sns.scatterplot(\n",
    "    data=merged_data, \n",
    "    x='Penetración_hogar', \n",
    "    y='Velocidad_media', \n",
    "    hue='Provincia', \n",
    "    marker='x',  \n",
    "    s=100)\n",
    "plt.title('Relación entre Velocidad Media y Penetración por Hogares', fontsize=14)\n",
    "plt.xlabel('Penetración por Hogares (%)', fontsize=12)\n",
    "plt.ylabel('Velocidad Media (Mbps)', fontsize=12)\n",
    "plt.legend(bbox_to_anchor=(1.05, 1), loc='upper left', title='Provincia')\n",
    "plt.grid(True, linestyle='--', alpha=0.6)\n",
    "plt.tight_layout()\n",
    "plt.show()\n"
   ]
  },
  {
   "cell_type": "markdown",
   "metadata": {},
   "source": [
    "OBSERVACIONES\n",
    "- Puedes observar si existe una tendencia positiva entre la penetración y la velocidad media.\n",
    "- Las provincias con patrones destacados están identificadas por colores distintos.\n",
    "\n",
    "Vamos a ahondar un poco en la correlacion, relizando un Analisis Estadisticos con Correlaciones y Regresiones\n"
   ]
  },
  {
   "cell_type": "code",
   "execution_count": null,
   "metadata": {},
   "outputs": [],
   "source": [
    "# Analisis Estadistico: Correlaciones y Regresiones:\n",
    " \n",
    "# Correlacion entre Velocidad Media de descarga y Penetracion Poblacional, y con Penetracion por Hogar\n",
    "correlation_poblacional, p_value_poblacional = pearsonr(merged_data['Penetración_población'], merged_data['Velocidad_media'])\n",
    "correlation_hogar, p_value_hogar = pearsonr(merged_data['Penetración_hogar'], merged_data['Velocidad_media'])\n",
    "\n",
    "# Analisis de la Regresion: Penetración por Poblacional\n",
    "X_poblacion = merged_data[['Penetración_población']]\n",
    "y_poblacion = merged_data['Velocidad_media']\n",
    "reg_poblacion = LinearRegression().fit(X_poblacion, y_poblacion)\n",
    "\n",
    "#  Analisis de la Regresion: Penetración por Hogares\n",
    "X_hogar = merged_data[['Penetración_hogar']]\n",
    "y_hogar = merged_data['Velocidad_media']\n",
    "reg_hogar = LinearRegression().fit(X_hogar, y_hogar)\n",
    "\n",
    "# Resultados\n",
    "resultados = {\n",
    "    \"Penetración por Población\": {\n",
    "        \"Correlación de Pearson\": correlation_poblacional,\n",
    "        \"P-valor\": p_value_poblacional,\n",
    "        \"Pendiente (slope)\": reg_poblacion.coef_[0],\n",
    "        \"Intercepto\": reg_poblacion.intercept_,\n",
    "        \"R-cuadrado\": reg_poblacion.score(X_poblacion, y_poblacion),\n",
    "    },\n",
    "    \"Penetración por Hogares\": {\n",
    "        \"Correlación de Pearson\": correlation_hogar,\n",
    "        \"P-valor\": p_value_hogar,\n",
    "        \"Pendiente (slope)\": reg_hogar.coef_[0],\n",
    "        \"Intercepto\": reg_hogar.intercept_,\n",
    "        \"R-cuadrado\": reg_hogar.score(X_hogar, y_hogar),\n",
    "    }\n",
    "}\n",
    "\n",
    "resultados"
   ]
  },
  {
   "cell_type": "markdown",
   "metadata": {},
   "source": [
    "Análisis Profundo de las Relaciones\n",
    "\n",
    "\n",
    "1. Relación entre Velocidad Media y Penetración por Población\n",
    "- Correlación de Pearson: 0.42. Relación positiva moderada, indicando que un mayor acceso en la población generalmente se asocia con velocidades más altas.\n",
    "- P-valor: 2.50e-43. La correlación es estadísticamente significativa.\n",
    "- Pendiente (slope): 1.44. Por cada 1% de aumento en la penetración por población, la velocidad media aumenta en 1.44 Mbps, en promedio.\n",
    "- Intercepto: 0.77. Representa la velocidad estimada cuando la penetración es 0% (valor teórico).\n",
    "- R-cuadrado: 0.176. El 17.6% de la variabilidad en la velocidad media puede explicarse por la penetración en población.\n",
    "\n",
    "2. Relación entre Velocidad Media y Penetración por Hogares\n",
    "- Correlación de Pearson: 0.46. Relación positiva moderada, más fuerte que la relación con la penetración por población.\n",
    "- P-valor: 5.47e-52. También estadísticamente significativa.\n",
    "- Pendiente (slope): 0.60. Por cada 1% de aumento en la penetración por hogares, la velocidad media aumenta en 0.60 Mbps.\n",
    "- Intercepto: -8.19. Velocidad teórica cuando no hay penetración (indicador del límite del modelo lineal).\n",
    "- R-cuadrado: 0.209. El 20.9% de la variabilidad en la velocidad media puede explicarse por la penetración en hogares."
   ]
  },
  {
   "cell_type": "markdown",
   "metadata": {},
   "source": [
    "Conclusiones:\n",
    "\n",
    "Existe una relación positiva moderada entre la penetración y la velocidad media, siendo más fuerte con la penetración por hogares.\n",
    "Las variables de penetración explican parcialmente las diferencias en velocidades, pero otros factores (como la tecnología predominante) también influyen"
   ]
  },
  {
   "cell_type": "markdown",
   "metadata": {},
   "source": [
    "## 4. Análisis de Tendencia\n",
    "\n",
    "- Identificar provincias con crecimiento destacado en velocidades o penetración y analizar las posibles causas.\n",
    "- Evaluar la desigualdad en el acceso a internet, basándose en las diferencias geográficas y de tecnologías\n"
   ]
  },
  {
   "cell_type": "markdown",
   "metadata": {},
   "source": [
    "1. Identificar el crecimiento destacado\n",
    "\n",
    "Calcular la tasa de cambio porcentual de la velocidad media y las tasas de penetración (población y hogares) por provincia a lo largo del tiempo.\n",
    "Detectar las provincias con el mayor crecimiento en estas métricas."
   ]
  },
  {
   "cell_type": "code",
   "execution_count": null,
   "metadata": {},
   "outputs": [],
   "source": [
    "# Adjust column names for penetration growth rate calculations\n",
    "df_vel_media_provincia['Taza_de_crecimiento_vel_media'] = df_vel_media_provincia.groupby('Provincia')['Mbps (Media de bajada)'].pct_change() * 100\n",
    "df_penetracion_hogar['Taza_de_crecimiento_penetracion_hogar'] = df_penetracion_hogar.groupby('Provincia')['Accesos por cada 100 hogares'].pct_change() * 100\n",
    "df_penetracion_poblac['Taza_de_crecimiento_penetracion_poblacion'] = df_penetracion_poblac.groupby('Provincia')['Accesos por cada 100 hab'].pct_change() * 100\n",
    "\n",
    "# Aggregate growth data to find provinces with the highest growth rates\n",
    "crecimiento_vel_media = df_vel_media_provincia.groupby('Provincia')['Taza_de_crecimiento_vel_media'].mean().reset_index()\n",
    "crecieminto_penetracion_hogar = df_penetracion_hogar.groupby('Provincia')['Taza_de_crecimiento_penetracion_hogar'].mean().reset_index()\n",
    "crecimiento_penetracion_poblac = df_penetracion_poblac.groupby('Provincia')['Taza_de_crecimiento_penetracion_poblacion'].mean().reset_index()\n",
    "\n",
    "# Merge growth data for a comprehensive view\n",
    "resumen_crecimiento = crecimiento_vel_media.merge(crecieminto_penetracion_hogar, on='Provincia').merge(crecimiento_penetracion_poblac, on='Provincia')"
   ]
  },
  {
   "cell_type": "code",
   "execution_count": null,
   "metadata": {},
   "outputs": [],
   "source": [
    "top_vel_media = resumen_crecimiento.nlargest(5, 'Taza_de_crecimiento_vel_media')[['Provincia', 'Taza_de_crecimiento_vel_media']]\n",
    "top_penetracion_hogar = resumen_crecimiento.nlargest(5, 'Taza_de_crecimiento_penetracion_hogar')[['Provincia', 'Taza_de_crecimiento_penetracion_hogar']]\n",
    "top_penetracion_poblac = resumen_crecimiento.nlargest(5, 'Taza_de_crecimiento_penetracion_poblacion')[['Provincia', 'Taza_de_crecimiento_penetracion_poblacion']]\n",
    "\n",
    "top_crecimiento = {\n",
    "    \"Top Growth in Speed (Mbps)\": top_vel_media,\n",
    "    \"Top Growth in Household Penetration (%)\": top_penetracion_hogar,\n",
    "    \"Top Growth in Population Penetration (%)\": top_penetracion_poblac,\n",
    "}\n",
    "\n",
    "top_crecimiento"
   ]
  },
  {
   "cell_type": "code",
   "execution_count": null,
   "metadata": {},
   "outputs": [],
   "source": [
    "# 1. Tendencia Temporal de Crecimiento por Provincia (Línea para Velocidad)\n",
    "top_provinces = top_vel_media['Provincia'].tolist()\n",
    "vel_media_top =df_vel_media_provincia[df_vel_media_provincia['Provincia'].isin(top_provinces)]\n",
    "\n",
    "plt.figure(figsize=(12, 6))\n",
    "for province in top_provinces:\n",
    "    province_data = vel_media_top[vel_media_top['Provincia'] == province]\n",
    "    plt.plot(province_data['Fecha'], province_data['Mbps (Media de bajada)'], label=province)\n",
    "\n",
    "plt.title(\"Tendencia Temporal de Velocidad Media en Provincias con Mayor Crecimiento\")\n",
    "plt.xlabel(\"Fecha\")\n",
    "plt.ylabel(\"Velocidad Media (Mbps)\")\n",
    "plt.legend(title=\"Provincias\")\n",
    "plt.grid(True)\n",
    "plt.show()"
   ]
  },
  {
   "cell_type": "markdown",
   "metadata": {},
   "source": [
    "1. Tendencia Temporal de Velocidad Media\n",
    "\n",
    "    - Las provincias con mayor crecimiento muestran un aumento sostenido en la velocidad media de internet, aunque con variaciones.\n",
    "    - Algunas provincias destacan con incrementos más abruptos en ciertos períodos, lo que podría estar relacionado con inversiones en infraestructura tecnológica o la adopción de nuevas tecnologías."
   ]
  },
  {
   "cell_type": "code",
   "execution_count": null,
   "metadata": {},
   "outputs": [],
   "source": [
    "# 2. Comparación de Crecimiento Promedio por Provincia (Barras)\n",
    "growth_summary_top = resumen_crecimiento[resumen_crecimiento['Provincia'].isin(top_provinces)]\n",
    "\n",
    "growth_summary_top.plot(\n",
    "    x='Provincia',\n",
    "    kind='bar',\n",
    "    figsize=(12, 6),\n",
    "    title='Comparación de Crecimiento Promedio por Provincia',\n",
    "    ylabel='Tasa de Crecimiento (%)',\n",
    "    xlabel='Provincia',\n",
    "    legend=True,\n",
    "    grid=True\n",
    ")\n",
    "plt.show()"
   ]
  },
  {
   "cell_type": "markdown",
   "metadata": {},
   "source": [
    "2. Comparación de Crecimiento Promedio por Provincia\n",
    "\n",
    "    - Las provincias con mayor crecimiento en velocidad no siempre coinciden con las de mayor crecimiento en penetración por hogares o población.\n",
    "    - Esto sugiere que, en algunos casos, el avance tecnológico (como la mejora en velocidades) no está acompañado por una ampliación significativa del acceso al internet, lo que podría indicar desigualdad en el acceso."
   ]
  },
  {
   "cell_type": "code",
   "execution_count": null,
   "metadata": {},
   "outputs": [],
   "source": [
    "# 3. Relación entre la taza de crecimeinto de Velocidad y  de Penetración (Dispersión)\n",
    "plt.figure(figsize=(8, 6))\n",
    "plt.scatter(resumen_crecimiento['Taza_de_crecimiento_penetracion_hogar'], resumen_crecimiento['Taza_de_crecimiento_vel_media'], alpha=0.7, c='blue', label='Hogar vs Velocidad')\n",
    "plt.scatter(resumen_crecimiento['Taza_de_crecimiento_penetracion_poblacion'], resumen_crecimiento['Taza_de_crecimiento_vel_media'], alpha=0.7, c='orange', label='Población vs Velocidad')\n",
    "plt.title(\"Relación entre Penetración y Velocidad Media\")\n",
    "plt.xlabel(\"Tasa de Crecimiento en Penetración (%)\")\n",
    "plt.ylabel(\"Tasa de Crecimiento en Velocidad Media (%)\")\n",
    "plt.axhline(0, color='grey', linewidth=0.8, linestyle='--')\n",
    "plt.axvline(0, color='grey', linewidth=0.8, linestyle='--')\n",
    "plt.legend()\n",
    "plt.grid(True)\n",
    "plt.show()\n"
   ]
  },
  {
   "cell_type": "markdown",
   "metadata": {},
   "source": [
    "3. Relación entre Penetración y Velocidad Media\n",
    "\n",
    "    - Existe una correlación moderada entre la penetración por hogares/población y la velocidad media, lo que sugiere que las mejoras en acceso generalmente vienen acompañadas de una mejora en la calidad del servicio.\n",
    "    - Sin embargo, hay puntos fuera de la tendencia principal, indicando provincias donde la velocidad mejoró sin un crecimiento proporcional en la penetración o viceversa."
   ]
  },
  {
   "cell_type": "code",
   "execution_count": null,
   "metadata": {},
   "outputs": [],
   "source": [
    "# 4. Distribución de Crecimientos (Boxplot)\n",
    "plt.figure(figsize=(10, 6))\n",
    "plt.boxplot(\n",
    "    [resumen_crecimiento['Taza_de_crecimiento_vel_media'], resumen_crecimiento['Taza_de_crecimiento_penetracion_hogar'], resumen_crecimiento['Taza_de_crecimiento_penetracion_poblacion']],\n",
    "    tick_labels=['Velocidad', 'Penetración Hogar', 'Penetración Población']\n",
    ")\n",
    "plt.title(\"Distribución de Crecimientos por Métrica\")\n",
    "plt.ylabel(\"Tasa de Crecimiento (%)\")\n",
    "plt.grid(True)\n",
    "plt.show()\n"
   ]
  },
  {
   "cell_type": "markdown",
   "metadata": {},
   "source": [
    "4. Distribución de Crecimientos por Métrica\n",
    "\n",
    "    - La velocidad media tiene una mayor dispersión en las tasas de crecimiento comparada con la penetración, indicando que el crecimiento tecnológico no ha sido uniforme.\n",
    "    - Las tasas de crecimiento en penetración por hogares y población muestran distribuciones más compactas, lo que podría sugerir políticas o inversiones más homogéneas en estas áreas."
   ]
  },
  {
   "cell_type": "markdown",
   "metadata": {},
   "source": [
    "Conclusiones Generales\n",
    "\n",
    "- Hay desigualdades significativas en el acceso y la mejora tecnológica entre provincias, con algunas avanzando mucho más rápido en velocidad que en penetración.\n",
    "- Las mejoras en velocidad parecen estar más relacionadas con la adopción de tecnologías avanzadas, mientras que las mejoras en penetración podrían depender más de factores sociales o económicos.\n",
    "- Algunas provincias han logrado un crecimiento destacado, pero identificar las causas exactas requerirá un análisis más profundo de las tecnologías predominantes en esas regiones."
   ]
  },
  {
   "cell_type": "code",
   "execution_count": null,
   "metadata": {},
   "outputs": [],
   "source": []
  }
 ],
 "metadata": {
  "kernelspec": {
   "display_name": "venv",
   "language": "python",
   "name": "python3"
  },
  "language_info": {
   "codemirror_mode": {
    "name": "ipython",
    "version": 3
   },
   "file_extension": ".py",
   "mimetype": "text/x-python",
   "name": "python",
   "nbconvert_exporter": "python",
   "pygments_lexer": "ipython3",
   "version": "3.12.1"
  }
 },
 "nbformat": 4,
 "nbformat_minor": 2
}
