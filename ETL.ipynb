{
 "cells": [
  {
   "cell_type": "markdown",
   "metadata": {},
   "source": [
    "<span style=\"color: rgb(22,98,126); font-size: 24px;\">**IMPORTAR PAQUETES**</span>"
   ]
  },
  {
   "cell_type": "code",
   "execution_count": null,
   "metadata": {},
   "outputs": [],
   "source": [
    "import pandas as pd \n",
    "import numpy as np \n",
    "import matplotlib.pyplot as plt\n",
    "import seaborn as sns\n",
    "import datetime\n",
    "import math"
   ]
  },
  {
   "cell_type": "markdown",
   "metadata": {},
   "source": [
    "<span style=\"color: rgb(22,98,126); font-size: 24px;\">**FUNCIONES DE AYUDA**</span>"
   ]
  },
  {
   "cell_type": "code",
   "execution_count": null,
   "metadata": {},
   "outputs": [],
   "source": [
    "def detectar_outliers(df, columna):\n",
    "    \"\"\"\n",
    "    Función para detectar outliers en una columna de un DataFrame usando el método del rango intercuartílico (IQR).\n",
    "    \n",
    "    Parámetros:\n",
    "    df (pd.DataFrame): DataFrame que contiene los datos.\n",
    "    columna (str): El nombre de la columna en la que se buscan outliers.\n",
    "    \n",
    "    Retorna:\n",
    "    outliers: una lista con los indices donde se encuentran los outliers\n",
    "    \"\"\"\n",
    "    # Calcular Q1 (primer cuartil) y Q3 (tercer cuartil)\n",
    "    Q1 = df[columna].quantile(0.25)\n",
    "    Q3 = df[columna].quantile(0.75)\n",
    "    \n",
    "    # Calcular el rango intercuartílico (IQR)\n",
    "    IQR = Q3 - Q1\n",
    "    \n",
    "    # Definir los límites para detectar outliers\n",
    "    limite_inf = Q1 - 1.5 * IQR\n",
    "    limite_sup = Q3 + 1.5 * IQR\n",
    "    \n",
    "    # Identificar los outliers\n",
    "    outliers = df[(df[columna] < limite_inf) | (df[columna] > limite_sup)].index.tolist()\n",
    "    \n",
    "    # Imprimir los resultados\n",
    "    print(f\"Los Outliers en la columna '{columna}' tiene los indices:\\n\", outliers)\n",
    "    \n",
    "    return outliers\n"
   ]
  },
  {
   "cell_type": "markdown",
   "metadata": {},
   "source": [
    "<span style=\"color: rgb(22,98,126); font-size: 24px;\">**CARGA DE DATOS**</span>"
   ]
  },
  {
   "cell_type": "code",
   "execution_count": null,
   "metadata": {},
   "outputs": [],
   "source": [
    "df_vel_media_provincia = pd.read_excel('./Datasets/Internet.xlsx', sheet_name = 'Velocidad % por prov')\n",
    "df_tecnologia_provincia= pd.read_excel('./Datasets/Internet.xlsx', sheet_name = 'Accesos Por Tecnología')\n",
    "df_penetracion_poblac = pd.read_excel('./Datasets/Internet.xlsx', sheet_name = 'Penetración-poblacion')\n",
    "df_penetracion_hogar= pd.read_excel('./Datasets/Internet.xlsx', sheet_name = 'Penetracion-hogares')\n",
    "df_Acceso_rango_provincia  = pd.read_excel('./Datasets/Internet.xlsx', sheet_name = 'Accesos por velocidad')\n",
    "df_ingresos_total = pd.read_excel('./Datasets/Internet.xlsx', sheet_name = 'Ingresos ')"
   ]
  },
  {
   "cell_type": "markdown",
   "metadata": {},
   "source": [
    "<span style=\"color: rgb(22,98,126); font-size: 24px;\">**VISUALIZACION Y CREACION DEL DATASET**</span>"
   ]
  },
  {
   "cell_type": "markdown",
   "metadata": {},
   "source": [
    "<span style=\"color:  \trgb(59,134,150); font-size: 18px;\">**PENETRACION POR HOGAR Y PENETRACION POR HABITANTES**</span>"
   ]
  },
  {
   "cell_type": "markdown",
   "metadata": {},
   "source": [
    "<span style=\"color:  \trgb(59,134,150); font-size: 14px;\">**PENETRACION POR HOGAR**</span>"
   ]
  },
  {
   "cell_type": "code",
   "execution_count": null,
   "metadata": {},
   "outputs": [],
   "source": [
    "\n",
    "#Ver Forma y Caracteristicas de los datasets\n",
    "print(df_penetracion_hogar.shape)\n",
    "print(df_penetracion_hogar.info())"
   ]
  },
  {
   "cell_type": "code",
   "execution_count": null,
   "metadata": {},
   "outputs": [],
   "source": [
    "#Revisar si existen cvalores nulos dentro del datasets\n",
    "df_penetracion_hogar.isnull().sum()"
   ]
  },
  {
   "cell_type": "markdown",
   "metadata": {},
   "source": [
    "<span style=\"color: rgb(94,154,171); font-size: 16px;\">**OUTLIERS**</span>"
   ]
  },
  {
   "cell_type": "code",
   "execution_count": null,
   "metadata": {},
   "outputs": [],
   "source": [
    "#GRAFICO DE BOXPLOT PARA DETACTAR OUTLIERS \n",
    "plt.figure(figsize=(12, 8))\n",
    "sns.boxplot(x='Provincia', y='Accesos por cada 100 hogares', data=df_penetracion_hogar)\n",
    "\n",
    "#Títulos y etiquetas\n",
    "plt.title(f'Boxplot de Penetracion Hogares por Provincia', fontsize=16)\n",
    "plt.xlabel('Provincia', fontsize=14)\n",
    "plt.ylabel('Accesos por 100 Hogares', fontsize=14)\n",
    "plt.xticks(rotation=90)\n",
    "plt.show()"
   ]
  },
  {
   "cell_type": "markdown",
   "metadata": {},
   "source": [
    "<span style=\"color: rgb(22,98,126); font-size: 14x;\">**Se observa en las graficas la presencia de Outlier en la Provincia de Santa Cruz. Se utilizara la funcion para calcular outliers e identificarlos**</span>"
   ]
  },
  {
   "cell_type": "code",
   "execution_count": null,
   "metadata": {},
   "outputs": [],
   "source": [
    "outliers = detectar_outliers(df_penetracion_hogar[df_penetracion_hogar['Provincia'] == 'Santa Cruz'], 'Accesos por cada 100 hogares')"
   ]
  },
  {
   "cell_type": "markdown",
   "metadata": {},
   "source": [
    "<span style=\"color:  \trgb(59,134,150); font-size: 14px;\">**PENETRACION POR HABITANTE**</span>"
   ]
  },
  {
   "cell_type": "code",
   "execution_count": null,
   "metadata": {},
   "outputs": [],
   "source": [
    "#OBSERVAR TAMANO E INFORMACION DEL DATASET\n",
    "print(df_penetracion_poblac.shape)\n",
    "print(df_penetracion_poblac.info())"
   ]
  },
  {
   "cell_type": "code",
   "execution_count": null,
   "metadata": {},
   "outputs": [],
   "source": [
    "#DETECCION DE NULOS\n",
    "df_penetracion_poblac.isnull().sum()"
   ]
  },
  {
   "cell_type": "markdown",
   "metadata": {},
   "source": [
    "<span style=\"color: rgb(94,154,171); font-size: 16px;\">**OUTLIERS**</span>"
   ]
  },
  {
   "cell_type": "code",
   "execution_count": null,
   "metadata": {},
   "outputs": [],
   "source": [
    "#GRAFICO DE BOXPLOT PARA OBSERVAR OUTLIERS\n",
    "\n",
    "plt.figure(figsize=(12, 8))\n",
    "sns.boxplot(x='Provincia', y='Accesos por cada 100 hab', data=df_penetracion_poblac)\n",
    "\n",
    "#Títulos y etiquetas\n",
    "plt.title(f'Boxplot de Penetracion Personas por Provincia', fontsize=16)\n",
    "plt.xlabel('Provincia', fontsize=14)\n",
    "plt.ylabel('Accesos por 100 Habitantes', fontsize=14)\n",
    "plt.xticks(rotation=90)\n",
    "plt.show()"
   ]
  },
  {
   "cell_type": "markdown",
   "metadata": {},
   "source": [
    "<span style=\"color: rgb(22,98,126); font-size: 14x;\">**Se observa en las graficas la presencia de Outlier en la Provincia de Santa Cruz Y Capital Federal. Se utilizara la funcion para calcular outliers e identificarlos**</span>"
   ]
  },
  {
   "cell_type": "code",
   "execution_count": null,
   "metadata": {},
   "outputs": [],
   "source": [
    "detectar_outliers(df_penetracion_poblac[df_penetracion_poblac['Provincia'] == 'Santa Cruz'], 'Accesos por cada 100 hab')\n",
    "detectar_outliers(df_penetracion_poblac[df_penetracion_poblac['Provincia'] == 'Capital Federal'], 'Accesos por cada 100 hab')"
   ]
  },
  {
   "cell_type": "code",
   "execution_count": null,
   "metadata": {},
   "outputs": [],
   "source": [
    "## Combinar Columnas Año y Trimestre a columna Fecha tipo datetime\n",
    "df_penetracion_poblac['Fecha'] = pd.to_datetime(df_penetracion_poblac['Año'].astype(str) + '-' + (df_penetracion_poblac['Trimestre']*3-2).astype(str) + '-1')\n",
    "df_penetracion_poblac.drop(columns=['Año','Trimestre'], inplace=True)\n",
    "\n",
    "df_penetracion_hogar['Fecha'] = pd.to_datetime(df_penetracion_hogar['Año'].astype(str) + '-' + (df_penetracion_hogar['Trimestre']*3-2).astype(str) + '-1')\n",
    "df_penetracion_hogar.drop(columns=['Año','Trimestre'], inplace=True)"
   ]
  },
  {
   "cell_type": "markdown",
   "metadata": {},
   "source": [
    "<span style=\"color:  \trgb(59,134,150); font-size: 18px;\">**ACCESOS PROVINCIAS POR RANGOS**</span>"
   ]
  },
  {
   "cell_type": "code",
   "execution_count": null,
   "metadata": {},
   "outputs": [],
   "source": [
    "print(df_Acceso_rango_provincia.shape)\n",
    "print(df_Acceso_rango_provincia.info())"
   ]
  },
  {
   "cell_type": "code",
   "execution_count": null,
   "metadata": {},
   "outputs": [],
   "source": [
    "### Combinar Columnas Año y Trimestre a columna Fecha tipo datetime\n",
    "df_Acceso_rango_provincia['Fecha'] = pd.to_datetime(df_Acceso_rango_provincia['Año'].astype(str) + '-' + (df_Acceso_rango_provincia['Trimestre']*3-2).astype(str) + '-1')\n",
    "df_Acceso_rango_provincia.drop(columns=['Año','Trimestre'], inplace=True)\n"
   ]
  },
  {
   "cell_type": "code",
   "execution_count": null,
   "metadata": {},
   "outputs": [],
   "source": [
    "df_Acceso_rango_provincia.isnull().sum()"
   ]
  },
  {
   "cell_type": "code",
   "execution_count": null,
   "metadata": {},
   "outputs": [],
   "source": [
    "# Se tratan los valores faltantes de la columna 'OTROS' con la media\n",
    "indices_faltantes = df_Acceso_rango_provincia[df_Acceso_rango_provincia.isnull().any(axis=1)].index.tolist()\n",
    "df_Acceso_rango_provincia.loc[indices_faltantes,'OTROS'] = round(df_Acceso_rango_provincia['OTROS'].fillna(df_Acceso_rango_provincia['OTROS'].mean()),2)"
   ]
  },
  {
   "cell_type": "markdown",
   "metadata": {},
   "source": []
  },
  {
   "cell_type": "markdown",
   "metadata": {},
   "source": [
    "<span style=\"color: rgb(94,154,171); font-size: 16px;\">**OUTLIERS**</span>\n"
   ]
  },
  {
   "cell_type": "code",
   "execution_count": null,
   "metadata": {},
   "outputs": [],
   "source": [
    "#SE REVISARAN LOS  OUTLIERS POR PROVINCIA"
   ]
  },
  {
   "cell_type": "markdown",
   "metadata": {},
   "source": [
    "<span style=\"color: rgb(94,154,171); font-size: 13px;\">**BUENOS AIRES**</span>"
   ]
  },
  {
   "cell_type": "code",
   "execution_count": null,
   "metadata": {},
   "outputs": [],
   "source": [
    "datos_2 =df_Acceso_rango_provincia[df_Acceso_rango_provincia['Provincia'] == 'Buenos Aires']\n",
    "datos_2 = datos_2[['HASTA 512 kbps', '+ 512 Kbps - 1 Mbps','+ 1 Mbps - 6 Mbps', '+ 6 Mbps - 10 Mbps', '+ 10 Mbps - 20 Mbps', '+ 20 Mbps - 30 Mbps', '+ 30 Mbps', 'OTROS', 'Total']]"
   ]
  },
  {
   "cell_type": "code",
   "execution_count": null,
   "metadata": {},
   "outputs": [],
   "source": [
    "# Crear un DataFrame en formato largo para generar boxplots combinados\n",
    "\n",
    "df_melted = datos_2.melt()\n",
    "\n",
    "# Generar un solo gráfico con boxplots de todas las columnas\n",
    "plt.figure(figsize=(12, 8))\n",
    "sns.boxplot(x='variable', y='value', data=df_melted)\n",
    "\n",
    "# Añadir títulos y etiquetas\n",
    "plt.title(\"Boxplots de varias velocidades\", fontsize=16)\n",
    "plt.xlabel(\"Velocidades\", fontsize=12)\n",
    "plt.ylabel(\"Valor\", fontsize=12)\n",
    "\n",
    "# Mostrar el gráfico\n",
    "plt.xticks(rotation=90)\n",
    "plt.show()"
   ]
  },
  {
   "cell_type": "code",
   "execution_count": null,
   "metadata": {},
   "outputs": [],
   "source": [
    "# Graficar boxplots individuales de las velocidades donde existen Outlies para ver que como corregir\n",
    "\n",
    "plt.figure(figsize=(8, 1))\n",
    "sns.boxplot(data=datos_2, x='HASTA 512 kbps', orient='h')\n",
    "media = datos_2['HASTA 512 kbps'].mean()\n",
    "plt.scatter(media, 0, color='red', label='Media', zorder=3, s=50, marker='o')\n",
    "plt.xlabel(\"Cantidad Accesos\", fontsize=12)\n",
    "plt.title('HASTA 512 kbps')\n",
    "plt.show()\n",
    "\n",
    "plt.figure(figsize=(8, 1))\n",
    "sns.boxplot(data=datos_2, x='+ 6 Mbps - 10 Mbps', orient='h')\n",
    "media = datos_2['+ 6 Mbps - 10 Mbps'].mean()\n",
    "plt.scatter(media, 0, color='red', label='Media', zorder=3, s=50, marker='o')\n",
    "plt.xlabel(\"Cantidad Accesos\", fontsize=12)\n",
    "plt.title('+ 6 Mbps - 10 Mbps')\n",
    "plt.show()\n",
    "\n",
    "plt.figure(figsize=(8, 1))\n",
    "sns.boxplot(data=datos_2, x='+ 10 Mbps - 20 Mbps', orient='h')\n",
    "media = datos_2['+ 10 Mbps - 20 Mbps'].mean()\n",
    "plt.scatter(media, 0, color='red', label='Media', zorder=3, s=50, marker='o')\n",
    "plt.xlabel(\"Cantidad Accesos\", fontsize=12)\n",
    "plt.title('+ 10 Mbps - 20 Mbps')\n",
    "plt.show()\n",
    "\n",
    "plt.figure(figsize=(8, 1))\n",
    "sns.boxplot(data=datos_2, x='+ 20 Mbps - 30 Mbps', orient='h')\n",
    "media = datos_2['+ 20 Mbps - 30 Mbps'].mean()\n",
    "plt.scatter(media, 0, color='red', label='Media', zorder=3, s=50, marker='o')\n",
    "plt.xlabel(\"Cantidad Accesos\", fontsize=12)\n",
    "plt.title('+ 20 Mbps - 30 Mbps')\n",
    "plt.show()\n"
   ]
  },
  {
   "cell_type": "code",
   "execution_count": null,
   "metadata": {},
   "outputs": [],
   "source": [
    "#Separar Data para tratarla segun velocidades\n",
    "outlines_1 = detectar_outliers(datos_2, 'HASTA 512 kbps')\n",
    "outlines_2 = detectar_outliers(datos_2, '+ 6 Mbps - 10 Mbps')\n",
    "outlines_3 = detectar_outliers(datos_2, '+ 10 Mbps - 20 Mbps')\n",
    "outlines_4 = detectar_outliers(datos_2, '+ 20 Mbps - 30 Mbps')\n"
   ]
  },
  {
   "cell_type": "code",
   "execution_count": null,
   "metadata": {},
   "outputs": [],
   "source": [
    "# Corregir Outliers por la media o mediana, segun sea conveniente segun como se distribuyen los datos\n",
    "indice = datos_2.index.difference(outlines_1)\n",
    "df_Acceso_rango_provincia.loc[outlines_1,'HASTA 512 kbps'] = math.floor(datos_2.loc[indice, 'HASTA 512 kbps'].median())\n",
    "\n",
    "indice = datos_2.index.difference(outlines_2)\n",
    "df_Acceso_rango_provincia.loc[outlines_2,'+ 6 Mbps - 10 Mbps'] = math.floor(datos_2.loc[indice, '+ 6 Mbps - 10 Mbps'].mean())\n",
    "\n",
    "indice = datos_2.index.difference(outlines_3)\n",
    "df_Acceso_rango_provincia.loc[outlines_3,'+ 10 Mbps - 20 Mbps'] = math.floor(datos_2.loc[indice, '+ 10 Mbps - 20 Mbps'].median())\n",
    "\n",
    "indice = datos_2.index.difference(outlines_4)\n",
    "df_Acceso_rango_provincia.loc[outlines_4,'+ 20 Mbps - 30 Mbps'] = math.floor(datos_2.loc[indice, '+ 20 Mbps - 30 Mbps'].median())\n"
   ]
  },
  {
   "cell_type": "markdown",
   "metadata": {},
   "source": [
    "\n",
    "<span style=\"color: rgb(94,154,171); font-size: 13px;\">**CAPITAL FEDERAL**</span>"
   ]
  },
  {
   "cell_type": "code",
   "execution_count": null,
   "metadata": {},
   "outputs": [],
   "source": [
    "# Se realiza el procedimiento anterior en todas las provincias"
   ]
  },
  {
   "cell_type": "code",
   "execution_count": null,
   "metadata": {},
   "outputs": [],
   "source": [
    "datos_2 =df_Acceso_rango_provincia[df_Acceso_rango_provincia['Provincia'] == 'Capital Federal']\n",
    "datos_2 = datos_2[['HASTA 512 kbps', '+ 512 Kbps - 1 Mbps','+ 1 Mbps - 6 Mbps', '+ 6 Mbps - 10 Mbps', '+ 10 Mbps - 20 Mbps', '+ 20 Mbps - 30 Mbps', '+ 30 Mbps', 'OTROS', 'Total']]\n",
    "\n",
    "# Crear un DataFrame en formato largo para generar boxplots combinados\n",
    "\n",
    "df_melted = datos_2.melt()\n",
    "\n",
    "# Generar un solo gráfico con boxplots de todas las columnas\n",
    "plt.figure(figsize=(12, 8))\n",
    "sns.boxplot(x='variable', y='value', data=df_melted)\n",
    "\n",
    "# Añadir títulos y etiquetas\n",
    "plt.title(\"Boxplots de varias velocidades\", fontsize=16)\n",
    "plt.xlabel(\"Velocidades\", fontsize=12)\n",
    "plt.ylabel(\"Valor\", fontsize=12)\n",
    "\n",
    "# Mostrar el gráfico\n",
    "plt.xticks(rotation=90)\n",
    "plt.show()"
   ]
  },
  {
   "cell_type": "code",
   "execution_count": null,
   "metadata": {},
   "outputs": [],
   "source": [
    "outlines_1 = detectar_outliers(datos_2, 'HASTA 512 kbps')\n",
    "outlines_2 = detectar_outliers(datos_2, '+ 512 Kbps - 1 Mbps')\n",
    "outlines_3 = detectar_outliers(datos_2, '+ 6 Mbps - 10 Mbps')\n",
    "outlines_4 = detectar_outliers(datos_2, '+ 20 Mbps - 30 Mbps')\n",
    "outlines_5 = detectar_outliers(datos_2, 'OTROS')\n"
   ]
  },
  {
   "cell_type": "code",
   "execution_count": null,
   "metadata": {},
   "outputs": [],
   "source": [
    "# Graficar boxplot para ver que como corregir los Otliers\n",
    "\n",
    "plt.figure(figsize=(8, 1))\n",
    "sns.boxplot(data=datos_2, x='HASTA 512 kbps', orient='h')\n",
    "media = datos_2['HASTA 512 kbps'].mean()\n",
    "plt.scatter(media, 0, color='red', label='Media', zorder=3, s=50, marker='o')\n",
    "plt.xlabel(\"Cantidad Accesos\", fontsize=12)\n",
    "plt.title('HASTA 512 kbps')\n",
    "plt.show()\n",
    "\n",
    "plt.figure(figsize=(8, 1))\n",
    "sns.boxplot(data=datos_2, x='+ 512 Kbps - 1 Mbps', orient='h')\n",
    "media = datos_2['+ 512 Kbps - 1 Mbps'].mean()\n",
    "plt.scatter(media, 0, color='red', label='Media', zorder=3, s=50, marker='o')\n",
    "plt.xlabel(\"Cantidad Accesos\", fontsize=12)\n",
    "plt.title('+ 512 Kbps - 1 Mbps')\n",
    "plt.show()\n",
    "\n",
    "plt.figure(figsize=(8, 1))\n",
    "sns.boxplot(data=datos_2, x='+ 6 Mbps - 10 Mbps', orient='h')\n",
    "media = datos_2['+ 6 Mbps - 10 Mbps'].mean()\n",
    "plt.scatter(media, 0, color='red', label='Media', zorder=3, s=50, marker='o')\n",
    "plt.xlabel(\"Cantidad Accesos\", fontsize=12)\n",
    "plt.title('+ 6 Mbps - 10 Mbps')\n",
    "plt.show()\n",
    "\n",
    "\n",
    "\n",
    "plt.figure(figsize=(8, 1))\n",
    "sns.boxplot(data=datos_2, x='+ 20 Mbps - 30 Mbps', orient='h')\n",
    "media = datos_2['+ 20 Mbps - 30 Mbps'].mean()\n",
    "plt.scatter(media, 0, color='red', label='Media', zorder=3, s=50, marker='o')\n",
    "plt.xlabel(\"Cantidad Accesos\", fontsize=12)\n",
    "plt.title('+ 20 Mbps - 30 Mbps')\n",
    "plt.show()\n",
    "\n",
    "\n",
    "plt.figure(figsize=(8, 1))\n",
    "sns.boxplot(data=datos_2, x='OTROS', orient='h')\n",
    "media = datos_2['OTROS'].mean()\n",
    "plt.scatter(media, 0, color='red', label='Media', zorder=3, s=50, marker='o')\n",
    "plt.xlabel(\"Cantidad Accesos\", fontsize=12)\n",
    "plt.title('OTROS')\n",
    "plt.show()"
   ]
  },
  {
   "cell_type": "code",
   "execution_count": null,
   "metadata": {},
   "outputs": [],
   "source": [
    "# Corregir Outliers por la media\n",
    "indice = datos_2.index.difference(outlines_1)\n",
    "df_Acceso_rango_provincia.loc[outlines_1,'HASTA 512 kbps'] = math.floor(datos_2.loc[indice, 'HASTA 512 kbps'].median())\n",
    "\n",
    "indice = datos_2.index.difference(outlines_2)\n",
    "df_Acceso_rango_provincia.loc[outlines_2,'+ 512 Kbps - 1 Mbps'] = math.floor(datos_2.loc[indice, '+ 512 Kbps - 1 Mbps'].mean())\n",
    "\n",
    "indice = datos_2.index.difference(outlines_3)\n",
    "df_Acceso_rango_provincia.loc[outlines_3,'+ 6 Mbps - 10 Mbps'] = math.floor(datos_2.loc[indice, '+ 6 Mbps - 10 Mbps'].median())\n",
    "\n",
    "indice = datos_2.index.difference(outlines_4)\n",
    "df_Acceso_rango_provincia.loc[outlines_4,'+ 20 Mbps - 30 Mbps'] = math.floor(datos_2.loc[indice, '+ 20 Mbps - 30 Mbps'].median())\n",
    "\n",
    "indice = datos_2.index.difference(outlines_5)\n",
    "df_Acceso_rango_provincia.loc[outlines_5,'OTROS'] = math.floor(datos_2.loc[indice, 'OTROS'].median())\n",
    "\n"
   ]
  },
  {
   "cell_type": "markdown",
   "metadata": {},
   "source": [
    "<span style=\"color: rgb(94,154,171); font-size: 13px;\">**CATAMARCA**</span>"
   ]
  },
  {
   "cell_type": "code",
   "execution_count": null,
   "metadata": {},
   "outputs": [],
   "source": [
    "datos_2 =df_Acceso_rango_provincia[df_Acceso_rango_provincia['Provincia'] == 'Catamarca']\n",
    "datos_2 = datos_2[['HASTA 512 kbps', '+ 512 Kbps - 1 Mbps','+ 1 Mbps - 6 Mbps', '+ 6 Mbps - 10 Mbps', '+ 10 Mbps - 20 Mbps', '+ 20 Mbps - 30 Mbps', '+ 30 Mbps', 'OTROS', 'Total']]\n",
    "\n",
    "# Crear un DataFrame en formato largo para generar boxplots combinados\n",
    "\n",
    "df_melted = datos_2.melt()\n",
    "\n",
    "# Generar un solo gráfico con boxplots de todas las columnas\n",
    "plt.figure(figsize=(12, 8))\n",
    "sns.boxplot(x='variable', y='value', data=df_melted)\n",
    "\n",
    "# Añadir títulos y etiquetas\n",
    "plt.title(\"Boxplots de varias velocidades\", fontsize=16)\n",
    "plt.xlabel(\"Velocidades\", fontsize=12)\n",
    "plt.ylabel(\"Valor\", fontsize=12)\n",
    "\n",
    "# Mostrar el gráfico\n",
    "plt.xticks(rotation=90)\n",
    "plt.show()"
   ]
  },
  {
   "cell_type": "code",
   "execution_count": null,
   "metadata": {},
   "outputs": [],
   "source": [
    "outlines_1 = detectar_outliers(datos_2, '+ 20 Mbps - 30 Mbps')\n",
    "outlines_2 = detectar_outliers(datos_2, 'OTROS')"
   ]
  },
  {
   "cell_type": "code",
   "execution_count": null,
   "metadata": {},
   "outputs": [],
   "source": [
    "plt.figure(figsize=(8, 1))\n",
    "sns.boxplot(data=datos_2, x='+ 20 Mbps - 30 Mbps', orient='h')\n",
    "media = datos_2['+ 20 Mbps - 30 Mbps'].mean()\n",
    "plt.scatter(media, 0, color='red', label='Media', zorder=3, s=50, marker='o')\n",
    "plt.xlabel(\"Cantidad Accesos\", fontsize=12)\n",
    "plt.title('+ 20 Mbps - 30 Mbps')\n",
    "plt.show()\n",
    "\n",
    "\n",
    "plt.figure(figsize=(8, 1))\n",
    "sns.boxplot(data=datos_2, x='OTROS', orient='h')\n",
    "media = datos_2['OTROS'].mean()\n",
    "plt.scatter(media, 0, color='red', label='Media', zorder=3, s=50, marker='o')\n",
    "plt.xlabel(\"Cantidad Accesos\", fontsize=12)\n",
    "plt.title('OTROS')\n",
    "plt.show()"
   ]
  },
  {
   "cell_type": "code",
   "execution_count": null,
   "metadata": {},
   "outputs": [],
   "source": [
    "indice = datos_2.index.difference(outlines_1)\n",
    "df_Acceso_rango_provincia.loc[outlines_1,'+ 20 Mbps - 30 Mbps'] = math.floor(datos_2.loc[indice, '+ 20 Mbps - 30 Mbps'].median())\n",
    "\n",
    "indice = datos_2.index.difference(outlines_2)\n",
    "df_Acceso_rango_provincia.loc[outlines_2,'OTROS'] = math.floor(datos_2.loc[indice, 'OTROS'].median())"
   ]
  },
  {
   "cell_type": "markdown",
   "metadata": {},
   "source": [
    "<span style=\"color: rgb(94,154,171); font-size: 13px;\">**CHACO**</span>\n"
   ]
  },
  {
   "cell_type": "code",
   "execution_count": null,
   "metadata": {},
   "outputs": [],
   "source": [
    "datos_2 =df_Acceso_rango_provincia[df_Acceso_rango_provincia['Provincia'] == 'Chaco']\n",
    "datos_2 = datos_2[['HASTA 512 kbps', '+ 512 Kbps - 1 Mbps','+ 1 Mbps - 6 Mbps', '+ 6 Mbps - 10 Mbps', '+ 10 Mbps - 20 Mbps', '+ 20 Mbps - 30 Mbps', '+ 30 Mbps', 'OTROS', 'Total']]\n",
    "\n",
    "# Crear un DataFrame en formato largo para generar boxplots combinados\n",
    "\n",
    "df_melted = datos_2.melt()\n",
    "\n",
    "# Generar un solo gráfico con boxplots de todas las columnas\n",
    "plt.figure(figsize=(12, 8))\n",
    "sns.boxplot(x='variable', y='value', data=df_melted)\n",
    "\n",
    "# Añadir títulos y etiquetas\n",
    "plt.title(\"Boxplots de varias velocidades\", fontsize=16)\n",
    "plt.xlabel(\"Velocidades\", fontsize=12)\n",
    "plt.ylabel(\"Valor\", fontsize=12)\n",
    "\n",
    "# Mostrar el gráfico\n",
    "plt.xticks(rotation=90)\n",
    "plt.show()"
   ]
  },
  {
   "cell_type": "code",
   "execution_count": null,
   "metadata": {},
   "outputs": [],
   "source": [
    "outlines_1 = detectar_outliers(datos_2, '+ 512 Kbps - 1 Mbps')\n",
    "outlines_2 = detectar_outliers(datos_2, '+ 6 Mbps - 10 Mbps')"
   ]
  },
  {
   "cell_type": "code",
   "execution_count": null,
   "metadata": {},
   "outputs": [],
   "source": [
    "## No se Corregiran Outlier ya que al estar al comienzo y al final del periodo, tienen tendencia normal de subida y bajada"
   ]
  },
  {
   "cell_type": "markdown",
   "metadata": {},
   "source": [
    "<span style=\"color: rgb(94,154,171); font-size: 13px;\">**CHUBUT**</span>"
   ]
  },
  {
   "cell_type": "code",
   "execution_count": null,
   "metadata": {},
   "outputs": [],
   "source": [
    "datos_2 =df_Acceso_rango_provincia[df_Acceso_rango_provincia['Provincia'] == 'Chubut']\n",
    "datos_2 = datos_2[['HASTA 512 kbps', '+ 512 Kbps - 1 Mbps','+ 1 Mbps - 6 Mbps', '+ 6 Mbps - 10 Mbps', '+ 10 Mbps - 20 Mbps', '+ 20 Mbps - 30 Mbps', '+ 30 Mbps', 'OTROS', 'Total']]\n",
    "\n",
    "# Crear un DataFrame en formato largo para generar boxplots combinados\n",
    "\n",
    "df_melted = datos_2.melt()\n",
    "\n",
    "# Generar un solo gráfico con boxplots de todas las columnas\n",
    "plt.figure(figsize=(12, 8))\n",
    "sns.boxplot(x='variable', y='value', data=df_melted)\n",
    "\n",
    "# Añadir títulos y etiquetas\n",
    "plt.title(\"Boxplots de varias velocidades\", fontsize=16)\n",
    "plt.xlabel(\"Velocidades\", fontsize=12)\n",
    "plt.ylabel(\"Valor\", fontsize=12)\n",
    "\n",
    "# Mostrar el gráfico\n",
    "plt.xticks(rotation=90)\n",
    "plt.show()"
   ]
  },
  {
   "cell_type": "code",
   "execution_count": null,
   "metadata": {},
   "outputs": [],
   "source": [
    "outlines_1 = detectar_outliers(datos_2, 'HASTA 512 kbps')\n",
    "outlines_2 = detectar_outliers(datos_2, '+ 20 Mbps - 30 Mbps')\n",
    "outlines_3 = detectar_outliers(datos_2, '+ 30 Mbps')"
   ]
  },
  {
   "cell_type": "code",
   "execution_count": null,
   "metadata": {},
   "outputs": [],
   "source": [
    "# No se Corregiran Outlier ya que al estar al comienzo y al final del periodo, tienen tendencia normal de subida y bajada"
   ]
  },
  {
   "cell_type": "markdown",
   "metadata": {},
   "source": [
    "<span style=\"color: rgb(94,154,171); font-size: 13px;\">**CORDOBA**</span>"
   ]
  },
  {
   "cell_type": "code",
   "execution_count": null,
   "metadata": {},
   "outputs": [],
   "source": [
    "datos_2 =df_Acceso_rango_provincia[df_Acceso_rango_provincia['Provincia'] == 'Córdoba']\n",
    "datos_2 = datos_2[['HASTA 512 kbps', '+ 512 Kbps - 1 Mbps','+ 1 Mbps - 6 Mbps', '+ 6 Mbps - 10 Mbps', '+ 10 Mbps - 20 Mbps', '+ 20 Mbps - 30 Mbps', '+ 30 Mbps', 'OTROS', 'Total']]\n",
    "\n",
    "# Crear un DataFrame en formato largo para generar boxplots combinados\n",
    "\n",
    "df_melted = datos_2.melt()\n",
    "\n",
    "# Generar un solo gráfico con boxplots de todas las columnas\n",
    "plt.figure(figsize=(12, 8))\n",
    "sns.boxplot(x='variable', y='value', data=df_melted)\n",
    "\n",
    "# Añadir títulos y etiquetas\n",
    "plt.title(\"Boxplots de varias velocidades\", fontsize=16)\n",
    "plt.xlabel(\"Velocidades\", fontsize=12)\n",
    "plt.ylabel(\"Valor\", fontsize=12)\n",
    "\n",
    "# Mostrar el gráfico\n",
    "plt.xticks(rotation=90)\n",
    "plt.show()"
   ]
  },
  {
   "cell_type": "code",
   "execution_count": null,
   "metadata": {},
   "outputs": [],
   "source": [
    "outlines_1 = detectar_outliers(datos_2, 'HASTA 512 kbps')\n",
    "outlines_2 = detectar_outliers(datos_2, '+ 512 Kbps - 1 Mbps')\n",
    "outlines_3 = detectar_outliers(datos_2, '+ 10 Mbps - 20 Mbps')\n",
    "outlines_4 = detectar_outliers(datos_2, '+ 20 Mbps - 30 Mbps')\n",
    "outlines_5 = detectar_outliers(datos_2, 'OTROS')"
   ]
  },
  {
   "cell_type": "code",
   "execution_count": null,
   "metadata": {},
   "outputs": [],
   "source": [
    "plt.figure(figsize=(8, 1))\n",
    "sns.boxplot(data=datos_2, x='OTROS', orient='h')\n",
    "media = datos_2['OTROS'].mean()\n",
    "plt.scatter(media, 0, color='red', label='Media', zorder=3, s=50, marker='o')\n",
    "plt.xlabel(\"Cantidad Accesos\", fontsize=12)\n",
    "plt.title('OTROS')\n",
    "plt.show()"
   ]
  },
  {
   "cell_type": "code",
   "execution_count": null,
   "metadata": {},
   "outputs": [],
   "source": [
    "#se corrige por la media\n",
    "indice = datos_2.index.difference(outlines_5)\n",
    "df_Acceso_rango_provincia.loc[outlines_5,'OTROS'] = math.floor(datos_2.loc[indice, 'OTROS'].median())"
   ]
  },
  {
   "cell_type": "markdown",
   "metadata": {},
   "source": [
    "<span style=\"color: rgb(94,154,171); font-size: 13px;\">**CORRIENTES**</span>"
   ]
  },
  {
   "cell_type": "code",
   "execution_count": null,
   "metadata": {},
   "outputs": [],
   "source": [
    "datos_2 =df_Acceso_rango_provincia[df_Acceso_rango_provincia['Provincia'] == 'Corrientes']\n",
    "datos_2 = datos_2[['HASTA 512 kbps', '+ 512 Kbps - 1 Mbps','+ 1 Mbps - 6 Mbps', '+ 6 Mbps - 10 Mbps', '+ 10 Mbps - 20 Mbps', '+ 20 Mbps - 30 Mbps', '+ 30 Mbps', 'OTROS', 'Total']]\n",
    "\n",
    "# Crear un DataFrame en formato largo para generar boxplots combinados\n",
    "\n",
    "df_melted = datos_2.melt()\n",
    "\n",
    "# Generar un solo gráfico con boxplots de todas las columnas\n",
    "plt.figure(figsize=(12, 8))\n",
    "sns.boxplot(x='variable', y='value', data=df_melted)\n",
    "\n",
    "# Añadir títulos y etiquetas\n",
    "plt.title(\"Boxplots de varias velocidades\", fontsize=16)\n",
    "plt.xlabel(\"Velocidades\", fontsize=12)\n",
    "plt.ylabel(\"Valor\", fontsize=12)\n",
    "\n",
    "# Mostrar el gráfico\n",
    "plt.xticks(rotation=90)\n",
    "plt.show()"
   ]
  },
  {
   "cell_type": "code",
   "execution_count": null,
   "metadata": {},
   "outputs": [],
   "source": [
    "outlines_1 = detectar_outliers(datos_2, '+ 512 Kbps - 1 Mbps')\n",
    "outlines_2 = detectar_outliers(datos_2, '+ 6 Mbps - 10 Mbps')\n",
    "outlines_3 = detectar_outliers(datos_2, '+ 30 Mbps')\n"
   ]
  },
  {
   "cell_type": "code",
   "execution_count": null,
   "metadata": {},
   "outputs": [],
   "source": [
    "## No se Corregiran Outlier ya que al estar al comienzo y al final del periodo, tienen tendencia normal de subida y bajada"
   ]
  },
  {
   "cell_type": "markdown",
   "metadata": {},
   "source": [
    "<span style=\"color: rgb(94,154,171); font-size: 13px;\">**ENTRE RIOS**</span>"
   ]
  },
  {
   "cell_type": "code",
   "execution_count": null,
   "metadata": {},
   "outputs": [],
   "source": [
    "datos_2 =df_Acceso_rango_provincia[df_Acceso_rango_provincia['Provincia'] == 'Entre Ríos']\n",
    "datos_2 = datos_2[['HASTA 512 kbps', '+ 512 Kbps - 1 Mbps','+ 1 Mbps - 6 Mbps', '+ 6 Mbps - 10 Mbps', '+ 10 Mbps - 20 Mbps', '+ 20 Mbps - 30 Mbps', '+ 30 Mbps', 'OTROS', 'Total']]\n",
    "\n",
    "# Crear un DataFrame en formato largo para generar boxplots combinados\n",
    "\n",
    "df_melted = datos_2.melt()\n",
    "\n",
    "# Generar un solo gráfico con boxplots de todas las columnas\n",
    "plt.figure(figsize=(12, 8))\n",
    "sns.boxplot(x='variable', y='value', data=df_melted)\n",
    "\n",
    "# Añadir títulos y etiquetas\n",
    "plt.title(\"Boxplots de varias velocidades\", fontsize=16)\n",
    "plt.xlabel(\"Velocidades\", fontsize=12)\n",
    "plt.ylabel(\"Valor\", fontsize=12)\n",
    "\n",
    "# Mostrar el gráfico\n",
    "plt.xticks(rotation=90)\n",
    "plt.show()\n"
   ]
  },
  {
   "cell_type": "code",
   "execution_count": null,
   "metadata": {},
   "outputs": [],
   "source": [
    "outlines_1 = detectar_outliers(datos_2, 'HASTA 512 kbps')\n",
    "outlines_2 = detectar_outliers(datos_2, '+ 512 Kbps - 1 Mbps')\n",
    "outlines_3 = detectar_outliers(datos_2, '+ 6 Mbps - 10 Mbps')\n"
   ]
  },
  {
   "cell_type": "code",
   "execution_count": null,
   "metadata": {},
   "outputs": [],
   "source": [
    "plt.figure(figsize=(8, 1))\n",
    "sns.boxplot(data=datos_2, x='HASTA 512 kbps', orient='h')\n",
    "media = datos_2['HASTA 512 kbps'].mean()\n",
    "plt.scatter(media, 0, color='red', label='Media', zorder=3, s=50, marker='o')\n",
    "plt.xlabel(\"Cantidad Accesos\", fontsize=12)\n",
    "plt.title('OTROS')\n",
    "plt.show()"
   ]
  },
  {
   "cell_type": "markdown",
   "metadata": {},
   "source": []
  },
  {
   "cell_type": "code",
   "execution_count": null,
   "metadata": {},
   "outputs": [],
   "source": [
    "# como los datos llevan una tendencia, se corregira el outlier con interpolacion\n",
    "datos_2.loc[outlines_1,'HASTA 512 kbps'] = np.nan\n",
    "df_Acceso_rango_provincia.loc[outlines_1,'HASTA 512 kbps'] = datos_2[\"HASTA 512 kbps\"].interpolate()\n",
    "\n",
    "datos_2.loc[415,'+ 512 Kbps - 1 Mbps'] = np.nan \n",
    "interpolate =  datos_2['+ 512 Kbps - 1 Mbps'].interpolate()\n",
    "df_Acceso_rango_provincia.loc[415,'+ 512 Kbps - 1 Mbps'] = interpolate[415]"
   ]
  },
  {
   "cell_type": "markdown",
   "metadata": {},
   "source": [
    "<span style=\"color: rgb(94,154,171); font-size: 13px;\">**FORMOSA**</span>"
   ]
  },
  {
   "cell_type": "code",
   "execution_count": null,
   "metadata": {},
   "outputs": [],
   "source": [
    "datos_2 =df_Acceso_rango_provincia[df_Acceso_rango_provincia['Provincia'] == 'Formosa']\n",
    "datos_2 = datos_2[['HASTA 512 kbps', '+ 512 Kbps - 1 Mbps','+ 1 Mbps - 6 Mbps', '+ 6 Mbps - 10 Mbps', '+ 10 Mbps - 20 Mbps', '+ 20 Mbps - 30 Mbps', '+ 30 Mbps', 'OTROS', 'Total']]\n",
    "\n",
    "# Crear un DataFrame en formato largo para generar boxplots combinados\n",
    "\n",
    "df_melted = datos_2.melt()\n",
    "\n",
    "# Generar un solo gráfico con boxplots de todas las columnas\n",
    "plt.figure(figsize=(12, 8))\n",
    "sns.boxplot(x='variable', y='value', data=df_melted)\n",
    "\n",
    "# Añadir títulos y etiquetas\n",
    "plt.title(\"Boxplots de varias velocidades\", fontsize=16)\n",
    "plt.xlabel(\"Velocidades\", fontsize=12)\n",
    "plt.ylabel(\"Valor\", fontsize=12)\n",
    "\n",
    "# Mostrar el gráfico\n",
    "plt.xticks(rotation=90)\n",
    "plt.show()\n"
   ]
  },
  {
   "cell_type": "code",
   "execution_count": null,
   "metadata": {},
   "outputs": [],
   "source": [
    "\n",
    "outlines_1 = detectar_outliers(datos_2, '+ 6 Mbps - 10 Mbps')\n",
    "outlines_2 = detectar_outliers(datos_2, '+ 20 Mbps - 30 Mbps')\n",
    "outlines_3 = detectar_outliers(datos_2, 'OTROS')\n"
   ]
  },
  {
   "cell_type": "code",
   "execution_count": null,
   "metadata": {},
   "outputs": [],
   "source": [
    "\n",
    "plt.figure(figsize=(8, 1))\n",
    "sns.boxplot(data=datos_2, x='+ 6 Mbps - 10 Mbps', orient='h')\n",
    "media = datos_2['+ 6 Mbps - 10 Mbps'].mean()\n",
    "plt.scatter(media, 0, color='red', label='Media', zorder=3, s=50, marker='o')\n",
    "plt.xlabel(\"Cantidad Accesos\", fontsize=12)\n",
    "plt.title('+ 6 Mbps - 10 Mbps')\n",
    "plt.show()\n",
    "\n",
    "plt.figure(figsize=(8, 1))\n",
    "sns.boxplot(data=datos_2, x='+ 20 Mbps - 30 Mbps', orient='h')\n",
    "media = datos_2['+ 20 Mbps - 30 Mbps'].mean()\n",
    "plt.scatter(media, 0, color='red', label='Media', zorder=3, s=50, marker='o')\n",
    "plt.xlabel(\"Cantidad Accesos\", fontsize=12)\n",
    "plt.title('+ 20 Mbps - 30 Mbps')\n",
    "plt.show()\n",
    "\n",
    "plt.figure(figsize=(8, 1))\n",
    "sns.boxplot(data=datos_2, x='OTROS', orient='h')\n",
    "media = datos_2['OTROS'].mean()\n",
    "plt.scatter(media, 0, color='red', label='Media', zorder=3, s=50, marker='o')\n",
    "plt.xlabel(\"Cantidad Accesos\", fontsize=12)\n",
    "plt.title('OTROS')\n",
    "plt.show()"
   ]
  },
  {
   "cell_type": "code",
   "execution_count": null,
   "metadata": {},
   "outputs": [],
   "source": [
    "indice = datos_2.index.difference(outlines_1)\n",
    "df_Acceso_rango_provincia.loc[outlines_1,'+ 6 Mbps - 10 Mbps'] = math.floor(datos_2.loc[indice, '+ 6 Mbps - 10 Mbps'].median())\n",
    "\n",
    "indice = datos_2.index.difference(outlines_3)\n",
    "df_Acceso_rango_provincia.loc[outlines_3,'OTROS'] = math.floor(datos_2.loc[indice, 'OTROS'].median())"
   ]
  },
  {
   "cell_type": "markdown",
   "metadata": {},
   "source": [
    "<span style=\"color: rgb(94,154,171); font-size: 13px;\">**JUJUY**</span>"
   ]
  },
  {
   "cell_type": "code",
   "execution_count": null,
   "metadata": {},
   "outputs": [],
   "source": [
    "datos_2 =df_Acceso_rango_provincia[df_Acceso_rango_provincia['Provincia'] == 'Jujuy']\n",
    "datos_2 = datos_2[['HASTA 512 kbps', '+ 512 Kbps - 1 Mbps','+ 1 Mbps - 6 Mbps', '+ 6 Mbps - 10 Mbps', '+ 10 Mbps - 20 Mbps', '+ 20 Mbps - 30 Mbps', '+ 30 Mbps', 'OTROS', 'Total']]\n",
    "\n",
    "# Crear un DataFrame en formato largo para generar boxplots combinados\n",
    "\n",
    "df_melted = datos_2.melt()\n",
    "\n",
    "# Generar un solo gráfico con boxplots de todas las columnas\n",
    "plt.figure(figsize=(12, 8))\n",
    "sns.boxplot(x='variable', y='value', data=df_melted)\n",
    "\n",
    "# Añadir títulos y etiquetas\n",
    "plt.title(\"Boxplots de varias velocidades\", fontsize=16)\n",
    "plt.xlabel(\"Velocidades\", fontsize=12)\n",
    "plt.ylabel(\"Valor\", fontsize=12)\n",
    "\n",
    "# Mostrar el gráfico\n",
    "plt.xticks(rotation=90)\n",
    "plt.show()"
   ]
  },
  {
   "cell_type": "code",
   "execution_count": null,
   "metadata": {},
   "outputs": [],
   "source": [
    "outlines_1 = detectar_outliers(datos_2, 'HASTA 512 kbps')\n",
    "outlines_5 = detectar_outliers(datos_2, 'OTROS')"
   ]
  },
  {
   "cell_type": "code",
   "execution_count": null,
   "metadata": {},
   "outputs": [],
   "source": [
    "indice = datos_2.index.difference(outlines_5)\n",
    "df_Acceso_rango_provincia.loc[outlines_5,'OTROS'] = math.floor(datos_2.loc[indice, 'OTROS'].median())"
   ]
  },
  {
   "cell_type": "markdown",
   "metadata": {},
   "source": [
    "<span style=\"color: rgb(94,154,171); font-size: 13px;\">**LA PAMPA**</span>"
   ]
  },
  {
   "cell_type": "code",
   "execution_count": null,
   "metadata": {},
   "outputs": [],
   "source": [
    "datos_2 =df_Acceso_rango_provincia[df_Acceso_rango_provincia['Provincia'] == 'La Pampa']\n",
    "datos_2 = datos_2[['HASTA 512 kbps', '+ 512 Kbps - 1 Mbps','+ 1 Mbps - 6 Mbps', '+ 6 Mbps - 10 Mbps', '+ 10 Mbps - 20 Mbps', '+ 20 Mbps - 30 Mbps', '+ 30 Mbps', 'OTROS', 'Total']]\n",
    "\n",
    "# Crear un DataFrame en formato largo para generar boxplots combinados\n",
    "\n",
    "df_melted = datos_2.melt()\n",
    "\n",
    "# Generar un solo gráfico con boxplots de todas las columnas\n",
    "plt.figure(figsize=(12, 8))\n",
    "sns.boxplot(x='variable', y='value', data=df_melted)\n",
    "\n",
    "# Añadir títulos y etiquetas\n",
    "plt.title(\"Boxplots de varias velocidades\", fontsize=16)\n",
    "plt.xlabel(\"Velocidades\", fontsize=12)\n",
    "plt.ylabel(\"Valor\", fontsize=12)\n",
    "\n",
    "# Mostrar el gráfico\n",
    "plt.xticks(rotation=90)\n",
    "plt.show()"
   ]
  },
  {
   "cell_type": "code",
   "execution_count": null,
   "metadata": {},
   "outputs": [],
   "source": [
    "outlines_1 = detectar_outliers(datos_2, 'HASTA 512 kbps')\n",
    "outlines_4 = detectar_outliers(datos_2, '+ 30 Mbps')\n",
    "outlines_5 = detectar_outliers(datos_2, 'OTROS')"
   ]
  },
  {
   "cell_type": "code",
   "execution_count": null,
   "metadata": {},
   "outputs": [],
   "source": [
    "indice = datos_2.index.difference(outlines_5)\n",
    "df_Acceso_rango_provincia.loc[outlines_5,'OTROS'] = math.floor(datos_2.loc[indice, 'OTROS'].median())"
   ]
  },
  {
   "cell_type": "markdown",
   "metadata": {},
   "source": [
    "<span style=\"color: rgb(94,154,171); font-size: 13px;\">**LA RIOJA**</span>"
   ]
  },
  {
   "cell_type": "code",
   "execution_count": null,
   "metadata": {},
   "outputs": [],
   "source": [
    "datos_2 =df_Acceso_rango_provincia[df_Acceso_rango_provincia['Provincia'] == 'La Rioja']\n",
    "datos_2 = datos_2[['HASTA 512 kbps', '+ 512 Kbps - 1 Mbps','+ 1 Mbps - 6 Mbps', '+ 6 Mbps - 10 Mbps', '+ 10 Mbps - 20 Mbps', '+ 20 Mbps - 30 Mbps', '+ 30 Mbps', 'OTROS', 'Total']]\n",
    "\n",
    "# Crear un DataFrame en formato largo para generar boxplots combinados\n",
    "\n",
    "df_melted = datos_2.melt()\n",
    "\n",
    "# Generar un solo gráfico con boxplots de todas las columnas\n",
    "plt.figure(figsize=(12, 8))\n",
    "sns.boxplot(x='variable', y='value', data=df_melted)\n",
    "\n",
    "# Añadir títulos y etiquetas\n",
    "plt.title(\"Boxplots de varias velocidades\", fontsize=16)\n",
    "plt.xlabel(\"Velocidades\", fontsize=12)\n",
    "plt.ylabel(\"Valor\", fontsize=12)\n",
    "\n",
    "# Mostrar el gráfico\n",
    "plt.xticks(rotation=90)\n",
    "plt.show()"
   ]
  },
  {
   "cell_type": "code",
   "execution_count": null,
   "metadata": {},
   "outputs": [],
   "source": [
    "outlines_5 = detectar_outliers(datos_2, 'OTROS')"
   ]
  },
  {
   "cell_type": "code",
   "execution_count": null,
   "metadata": {},
   "outputs": [],
   "source": [
    "indice = datos_2.index.difference(outlines_5)\n",
    "df_Acceso_rango_provincia.loc[outlines_5,'OTROS'] = math.floor(datos_2.loc[indice, 'OTROS'].median())"
   ]
  },
  {
   "cell_type": "markdown",
   "metadata": {},
   "source": [
    "<span style=\"color: rgb(94,154,171); font-size: 13px;\">**MENDOZA**</span>"
   ]
  },
  {
   "cell_type": "code",
   "execution_count": null,
   "metadata": {},
   "outputs": [],
   "source": [
    "datos_2 =df_Acceso_rango_provincia[df_Acceso_rango_provincia['Provincia'] == 'Mendoza']\n",
    "datos_2 = datos_2[['HASTA 512 kbps', '+ 512 Kbps - 1 Mbps','+ 1 Mbps - 6 Mbps', '+ 6 Mbps - 10 Mbps', '+ 10 Mbps - 20 Mbps', '+ 20 Mbps - 30 Mbps', '+ 30 Mbps', 'OTROS', 'Total']]\n",
    "\n",
    "# Crear un DataFrame en formato largo para generar boxplots combinados\n",
    "\n",
    "df_melted = datos_2.melt()\n",
    "\n",
    "# Generar un solo gráfico con boxplots de todas las columnas\n",
    "plt.figure(figsize=(12, 8))\n",
    "sns.boxplot(x='variable', y='value', data=df_melted)\n",
    "\n",
    "# Añadir títulos y etiquetas\n",
    "plt.title(\"Boxplots de varias velocidades\", fontsize=16)\n",
    "plt.xlabel(\"Velocidades\", fontsize=12)\n",
    "plt.ylabel(\"Valor\", fontsize=12)\n",
    "\n",
    "# Mostrar el gráfico\n",
    "plt.xticks(rotation=90)\n",
    "plt.show()"
   ]
  },
  {
   "cell_type": "code",
   "execution_count": null,
   "metadata": {},
   "outputs": [],
   "source": [
    "outlines_1 = detectar_outliers(datos_2, 'HASTA 512 kbps')\n",
    "outlines_2 = detectar_outliers(datos_2, '+ 1 Mbps - 6 Mbps')\n",
    "outlines_3 = detectar_outliers(datos_2, '+ 20 Mbps - 30 Mbps')\n",
    "outlines_4 = detectar_outliers(datos_2, '+ 30 Mbps')\n",
    "outlines_5 = detectar_outliers(datos_2, 'OTROS')"
   ]
  },
  {
   "cell_type": "code",
   "execution_count": null,
   "metadata": {},
   "outputs": [],
   "source": [
    "\n",
    "plt.figure(figsize=(8, 1))\n",
    "sns.boxplot(data=datos_2, x='HASTA 512 kbps', orient='h')\n",
    "media = datos_2['HASTA 512 kbps'].mean()\n",
    "plt.scatter(media, 0, color='red', label='Media', zorder=3, s=50, marker='o')\n",
    "plt.xlabel(\"Cantidad Accesos\", fontsize=12)\n",
    "plt.title('HASTA 512 kbps')\n",
    "plt.show()\n",
    "\n"
   ]
  },
  {
   "cell_type": "code",
   "execution_count": null,
   "metadata": {},
   "outputs": [],
   "source": [
    "indice = datos_2.index.difference(outlines_1)\n",
    "df_Acceso_rango_provincia.loc[outlines_1,'HASTA 512 kbps'] = math.floor(datos_2.loc[indice, 'HASTA 512 kbps'].median())\n"
   ]
  },
  {
   "cell_type": "markdown",
   "metadata": {},
   "source": [
    "<span style=\"color: rgb(94,154,171); font-size: 13px;\">**MISIONES**</span>"
   ]
  },
  {
   "cell_type": "code",
   "execution_count": null,
   "metadata": {},
   "outputs": [],
   "source": [
    "datos_2 =df_Acceso_rango_provincia[df_Acceso_rango_provincia['Provincia'] == 'Misiones']\n",
    "datos_2 = datos_2[['HASTA 512 kbps', '+ 512 Kbps - 1 Mbps','+ 1 Mbps - 6 Mbps', '+ 6 Mbps - 10 Mbps', '+ 10 Mbps - 20 Mbps', '+ 20 Mbps - 30 Mbps', '+ 30 Mbps', 'OTROS', 'Total']]\n",
    "\n",
    "# Crear un DataFrame en formato largo para generar boxplots combinados\n",
    "\n",
    "df_melted = datos_2.melt()\n",
    "\n",
    "# Generar un solo gráfico con boxplots de todas las columnas\n",
    "plt.figure(figsize=(12, 8))\n",
    "sns.boxplot(x='variable', y='value', data=df_melted)\n",
    "\n",
    "# Añadir títulos y etiquetas\n",
    "plt.title(\"Boxplots de varias velocidades\", fontsize=16)\n",
    "plt.xlabel(\"Velocidades\", fontsize=12)\n",
    "plt.ylabel(\"Valor\", fontsize=12)\n",
    "\n",
    "# Mostrar el gráfico\n",
    "plt.xticks(rotation=90)\n",
    "plt.show()"
   ]
  },
  {
   "cell_type": "code",
   "execution_count": null,
   "metadata": {},
   "outputs": [],
   "source": [
    "outlines_1 = detectar_outliers(datos_2, '+ 512 Kbps - 1 Mbps')\n",
    "outlines_2 = detectar_outliers(datos_2, '+ 6 Mbps - 10 Mbps')\n",
    "outlines_3 = detectar_outliers(datos_2, '+ 30 Mbps')"
   ]
  },
  {
   "cell_type": "code",
   "execution_count": null,
   "metadata": {},
   "outputs": [],
   "source": [
    "# No se Corregiran Outlier ya que al estar al comienzo y al final del periodo, tienen tendencia normal de subida y bajada"
   ]
  },
  {
   "cell_type": "markdown",
   "metadata": {},
   "source": [
    "<span style=\"color: rgb(94,154,171); font-size: 13px;\">**NEUQUEN**</span>"
   ]
  },
  {
   "cell_type": "code",
   "execution_count": null,
   "metadata": {},
   "outputs": [],
   "source": [
    "datos_2 =df_Acceso_rango_provincia[df_Acceso_rango_provincia['Provincia'] == 'Neuquén']\n",
    "datos_2 = datos_2[['HASTA 512 kbps', '+ 512 Kbps - 1 Mbps','+ 1 Mbps - 6 Mbps', '+ 6 Mbps - 10 Mbps', '+ 10 Mbps - 20 Mbps', '+ 20 Mbps - 30 Mbps', '+ 30 Mbps', 'OTROS', 'Total']]\n",
    "\n",
    "# Crear un DataFrame en formato largo para generar boxplots combinados\n",
    "\n",
    "df_melted = datos_2.melt()\n",
    "\n",
    "# Generar un solo gráfico con boxplots de todas las columnas\n",
    "plt.figure(figsize=(12, 8))\n",
    "sns.boxplot(x='variable', y='value', data=df_melted)\n",
    "\n",
    "# Añadir títulos y etiquetas\n",
    "plt.title(\"Boxplots de varias velocidades\", fontsize=16)\n",
    "plt.xlabel(\"Velocidades\", fontsize=12)\n",
    "plt.ylabel(\"Valor\", fontsize=12)\n",
    "\n",
    "# Mostrar el gráfico\n",
    "plt.xticks(rotation=90)\n",
    "plt.show()"
   ]
  },
  {
   "cell_type": "code",
   "execution_count": null,
   "metadata": {},
   "outputs": [],
   "source": [
    "outlines_1 = detectar_outliers(datos_2, 'HASTA 512 kbps')\n",
    "outlines_2 = detectar_outliers(datos_2, '+ 10 Mbps - 20 Mbps')\n",
    "outlines_3 = detectar_outliers(datos_2, '+ 20 Mbps - 30 Mbps')\n",
    "outlines_5 = detectar_outliers(datos_2, 'OTROS')"
   ]
  },
  {
   "cell_type": "markdown",
   "metadata": {},
   "source": [
    "<span style=\"color: rgb(94,154,171); font-size: 13px;\">**RIO NEGRO**</span>"
   ]
  },
  {
   "cell_type": "code",
   "execution_count": null,
   "metadata": {},
   "outputs": [],
   "source": [
    "datos_2 =df_Acceso_rango_provincia[df_Acceso_rango_provincia['Provincia'] == 'Río Negro']\n",
    "datos_2 = datos_2[['HASTA 512 kbps', '+ 512 Kbps - 1 Mbps','+ 1 Mbps - 6 Mbps', '+ 6 Mbps - 10 Mbps', '+ 10 Mbps - 20 Mbps', '+ 20 Mbps - 30 Mbps', '+ 30 Mbps', 'OTROS', 'Total']]\n",
    "\n",
    "# Crear un DataFrame en formato largo para generar boxplots combinados\n",
    "\n",
    "df_melted = datos_2.melt()\n",
    "\n",
    "# Generar un solo gráfico con boxplots de todas las columnas\n",
    "plt.figure(figsize=(12, 8))\n",
    "sns.boxplot(x='variable', y='value', data=df_melted)\n",
    "\n",
    "# Añadir títulos y etiquetas\n",
    "plt.title(\"Boxplots de varias velocidades\", fontsize=16)\n",
    "plt.xlabel(\"Velocidades\", fontsize=12)\n",
    "plt.ylabel(\"Valor\", fontsize=12)\n",
    "\n",
    "# Mostrar el gráfico\n",
    "plt.xticks(rotation=90)\n",
    "plt.show()"
   ]
  },
  {
   "cell_type": "code",
   "execution_count": null,
   "metadata": {},
   "outputs": [],
   "source": [
    "outlines_1 = detectar_outliers(datos_2, 'HASTA 512 kbps')\n",
    "outlines_2 = detectar_outliers(datos_2, '+ 1 Mbps - 6 Mbps')\n",
    "outlines_3 = detectar_outliers(datos_2, '+ 6 Mbps - 10 Mbps')\n",
    "outlines_5 = detectar_outliers(datos_2, '+ 20 Mbps - 30 Mbps')"
   ]
  },
  {
   "cell_type": "markdown",
   "metadata": {},
   "source": [
    "<span style=\"color: rgb(94,154,171); font-size: 13px;\">**SALTA**</span>"
   ]
  },
  {
   "cell_type": "code",
   "execution_count": null,
   "metadata": {},
   "outputs": [],
   "source": [
    "datos_2 =df_Acceso_rango_provincia[df_Acceso_rango_provincia['Provincia'] == 'Salta']\n",
    "datos_2 = datos_2[['HASTA 512 kbps', '+ 512 Kbps - 1 Mbps','+ 1 Mbps - 6 Mbps', '+ 6 Mbps - 10 Mbps', '+ 10 Mbps - 20 Mbps', '+ 20 Mbps - 30 Mbps', '+ 30 Mbps', 'OTROS', 'Total']]\n",
    "\n",
    "# Crear un DataFrame en formato largo para generar boxplots combinados\n",
    "\n",
    "df_melted = datos_2.melt()\n",
    "\n",
    "# Generar un solo gráfico con boxplots de todas las columnas\n",
    "plt.figure(figsize=(12, 8))\n",
    "sns.boxplot(x='variable', y='value', data=df_melted)\n",
    "\n",
    "# Añadir títulos y etiquetas\n",
    "plt.title(\"Boxplots de varias velocidades\", fontsize=16)\n",
    "plt.xlabel(\"Velocidades\", fontsize=12)\n",
    "plt.ylabel(\"Valor\", fontsize=12)\n",
    "\n",
    "# Mostrar el gráfico\n",
    "plt.xticks(rotation=90)\n",
    "plt.show()"
   ]
  },
  {
   "cell_type": "code",
   "execution_count": null,
   "metadata": {},
   "outputs": [],
   "source": [
    "outlines_1 = detectar_outliers(datos_2, 'HASTA 512 kbps')\n",
    "outlines_2 = detectar_outliers(datos_2, '+ 512 Kbps - 1 Mbps')"
   ]
  },
  {
   "cell_type": "code",
   "execution_count": null,
   "metadata": {},
   "outputs": [],
   "source": [
    "#Corregir Outlies con Interpolacion\n",
    "datos_2.loc[outlines_1,'HASTA 512 kbps'] = np.nan\n",
    "df_Acceso_rango_provincia.loc[outlines_1,'HASTA 512 kbps'] = datos_2[\"HASTA 512 kbps\"].interpolate()"
   ]
  },
  {
   "cell_type": "markdown",
   "metadata": {},
   "source": [
    "<span style=\"color: rgb(94,154,171); font-size: 13px;\">**SAN JUAN**</span>"
   ]
  },
  {
   "cell_type": "code",
   "execution_count": null,
   "metadata": {},
   "outputs": [],
   "source": [
    "datos_2 =df_Acceso_rango_provincia[df_Acceso_rango_provincia['Provincia'] == 'San Juan']\n",
    "datos_2 = datos_2[['HASTA 512 kbps', '+ 512 Kbps - 1 Mbps','+ 1 Mbps - 6 Mbps', '+ 6 Mbps - 10 Mbps', '+ 10 Mbps - 20 Mbps', '+ 20 Mbps - 30 Mbps', '+ 30 Mbps', 'OTROS', 'Total']]\n",
    "\n",
    "# Crear un DataFrame en formato largo para generar boxplots combinados\n",
    "\n",
    "df_melted = datos_2.melt()\n",
    "\n",
    "# Generar un solo gráfico con boxplots de todas las columnas\n",
    "plt.figure(figsize=(12, 8))\n",
    "sns.boxplot(x='variable', y='value', data=df_melted)\n",
    "\n",
    "# Añadir títulos y etiquetas\n",
    "plt.title(\"Boxplots de varias velocidades\", fontsize=16)\n",
    "plt.xlabel(\"Velocidades\", fontsize=12)\n",
    "plt.ylabel(\"Valor\", fontsize=12)\n",
    "\n",
    "# Mostrar el gráfico\n",
    "plt.xticks(rotation=90)\n",
    "plt.show()"
   ]
  },
  {
   "cell_type": "code",
   "execution_count": null,
   "metadata": {},
   "outputs": [],
   "source": [
    "outlines_1 = detectar_outliers(datos_2, 'HASTA 512 kbps')\n",
    "outlines_2 = detectar_outliers(datos_2, '+ 1 Mbps - 6 Mbps')\n",
    "outlines_3 = detectar_outliers(datos_2, '+ 6 Mbps - 10 Mbps')\n",
    "outlines_4 = detectar_outliers(datos_2, '+ 20 Mbps - 30 Mbps')\n",
    "outlines_5 = detectar_outliers(datos_2, '+ 30 Mbps')\n",
    "outlines_3 = detectar_outliers(datos_2, 'OTROS')"
   ]
  },
  {
   "cell_type": "code",
   "execution_count": null,
   "metadata": {},
   "outputs": [],
   "source": [
    "#Corregir Outlier\n",
    "df_Acceso_rango_provincia.loc[outlines_1[-1],'HASTA 512 kbps'] = datos_2[\"HASTA 512 kbps\"].mean()"
   ]
  },
  {
   "cell_type": "markdown",
   "metadata": {},
   "source": [
    "<span style=\"color: rgb(94,154,171); font-size: 13px;\">**SAN LUIS**</span>"
   ]
  },
  {
   "cell_type": "code",
   "execution_count": null,
   "metadata": {},
   "outputs": [],
   "source": [
    "datos_2 =df_Acceso_rango_provincia[df_Acceso_rango_provincia['Provincia'] == 'San Luis']\n",
    "datos_2 = datos_2[['HASTA 512 kbps', '+ 512 Kbps - 1 Mbps','+ 1 Mbps - 6 Mbps', '+ 6 Mbps - 10 Mbps', '+ 10 Mbps - 20 Mbps', '+ 20 Mbps - 30 Mbps', '+ 30 Mbps', 'OTROS', 'Total']]\n",
    "\n",
    "# Crear un DataFrame en formato largo para generar boxplots combinados\n",
    "\n",
    "df_melted = datos_2.melt()\n",
    "\n",
    "# Generar un solo gráfico con boxplots de todas las columnas\n",
    "plt.figure(figsize=(12, 8))\n",
    "sns.boxplot(x='variable', y='value', data=df_melted)\n",
    "\n",
    "# Añadir títulos y etiquetas\n",
    "plt.title(\"Boxplots de varias velocidades\", fontsize=16)\n",
    "plt.xlabel(\"Velocidades\", fontsize=12)\n",
    "plt.ylabel(\"Valor\", fontsize=12)\n",
    "\n",
    "# Mostrar el gráfico\n",
    "plt.xticks(rotation=90)\n",
    "plt.show()"
   ]
  },
  {
   "cell_type": "code",
   "execution_count": null,
   "metadata": {},
   "outputs": [],
   "source": [
    "outlines_1 = detectar_outliers(datos_2, '+ 512 Kbps - 1 Mbps')\n",
    "outlines_2 = detectar_outliers(datos_2, '+ 1 Mbps - 6 Mbps')\n",
    "outlines_3 = detectar_outliers(datos_2, '+ 6 Mbps - 10 Mbps')\n",
    "outlines_4 = detectar_outliers(datos_2, '+ 30 Mbps')"
   ]
  },
  {
   "cell_type": "code",
   "execution_count": null,
   "metadata": {},
   "outputs": [],
   "source": [
    "plt.figure(figsize=(8, 1))\n",
    "sns.boxplot(data=datos_2, x='+ 1 Mbps - 6 Mbps', orient='h')\n",
    "media = datos_2['+ 1 Mbps - 6 Mbps'].mean()\n",
    "plt.scatter(media, 0, color='red', label='Media', zorder=3, s=50, marker='o')\n",
    "plt.xlabel(\"Cantidad Accesos\", fontsize=12)\n",
    "plt.title('+ 1 Mbps - 6 Mbps')\n",
    "plt.show()\n",
    "\n",
    "plt.figure(figsize=(8, 1))\n",
    "sns.boxplot(data=datos_2, x='+ 6 Mbps - 10 Mbps', orient='h')\n",
    "media = datos_2['+ 6 Mbps - 10 Mbps'].mean()\n",
    "plt.scatter(media, 0, color='red', label='Media', zorder=3, s=50, marker='o')\n",
    "plt.xlabel(\"Cantidad Accesos\", fontsize=12)\n",
    "plt.title('+ 6 Mbps - 10 Mbps')\n",
    "plt.show()\n",
    "\n",
    "\n"
   ]
  },
  {
   "cell_type": "code",
   "execution_count": null,
   "metadata": {},
   "outputs": [],
   "source": [
    "#Corregir Outlier\n",
    "df_Acceso_rango_provincia.loc[outlines_2,'+ 1 Mbps - 6 Mbps'] = datos_2['+ 1 Mbps - 6 Mbps'].mean()\n",
    "df_Acceso_rango_provincia.loc[outlines_3,'+ 6 Mbps - 10 Mbps'] = datos_2['+ 6 Mbps - 10 Mbps'].mean()"
   ]
  },
  {
   "cell_type": "markdown",
   "metadata": {},
   "source": [
    "<span style=\"color: rgb(94,154,171); font-size: 13px;\">**SANTA CRUZ**</span>"
   ]
  },
  {
   "cell_type": "code",
   "execution_count": null,
   "metadata": {},
   "outputs": [],
   "source": [
    "datos_2 =df_Acceso_rango_provincia[df_Acceso_rango_provincia['Provincia'] == 'Santa Cruz']\n",
    "datos_2 = datos_2[['HASTA 512 kbps', '+ 512 Kbps - 1 Mbps','+ 1 Mbps - 6 Mbps', '+ 6 Mbps - 10 Mbps', '+ 10 Mbps - 20 Mbps', '+ 20 Mbps - 30 Mbps', '+ 30 Mbps', 'OTROS', 'Total']]\n",
    "\n",
    "# Crear un DataFrame en formato largo para generar boxplots combinados\n",
    "\n",
    "df_melted = datos_2.melt()\n",
    "\n",
    "# Generar un solo gráfico con boxplots de todas las columnas\n",
    "plt.figure(figsize=(12, 8))\n",
    "sns.boxplot(x='variable', y='value', data=df_melted)\n",
    "\n",
    "# Añadir títulos y etiquetas\n",
    "plt.title(\"Boxplots de varias velocidades\", fontsize=16)\n",
    "plt.xlabel(\"Velocidades\", fontsize=12)\n",
    "plt.ylabel(\"Valor\", fontsize=12)\n",
    "\n",
    "# Mostrar el gráfico\n",
    "plt.xticks(rotation=90)\n",
    "plt.show()"
   ]
  },
  {
   "cell_type": "code",
   "execution_count": null,
   "metadata": {},
   "outputs": [],
   "source": [
    "outlines_1 = detectar_outliers(datos_2, '+ 512 Kbps - 1 Mbps')\n",
    "outlines_2 = detectar_outliers(datos_2, '+ 1 Mbps - 6 Mbps')\n",
    "outlines_3 = detectar_outliers(datos_2, '+ 20 Mbps - 30 Mbps')\n",
    "outlines_4 = detectar_outliers(datos_2, '+ 30 Mbps')\n",
    "outlines_5 = detectar_outliers(datos_2, 'OTROS')\n",
    "outlines_6 = detectar_outliers(datos_2, 'Total')"
   ]
  },
  {
   "cell_type": "markdown",
   "metadata": {},
   "source": [
    "<span style=\"color: rgb(94,154,171); font-size: 13px;\">**SANTA FE**</span>"
   ]
  },
  {
   "cell_type": "code",
   "execution_count": null,
   "metadata": {},
   "outputs": [],
   "source": [
    "datos_2 =df_Acceso_rango_provincia[df_Acceso_rango_provincia['Provincia'] == 'Santa Fe']\n",
    "datos_2 = datos_2[['HASTA 512 kbps', '+ 512 Kbps - 1 Mbps','+ 1 Mbps - 6 Mbps', '+ 6 Mbps - 10 Mbps', '+ 10 Mbps - 20 Mbps', '+ 20 Mbps - 30 Mbps', '+ 30 Mbps', 'OTROS', 'Total']]\n",
    "\n",
    "# Crear un DataFrame en formato largo para generar boxplots combinados\n",
    "\n",
    "df_melted = datos_2.melt()\n",
    "\n",
    "# Generar un solo gráfico con boxplots de todas las columnas\n",
    "plt.figure(figsize=(12, 8))\n",
    "sns.boxplot(x='variable', y='value', data=df_melted)\n",
    "\n",
    "# Añadir títulos y etiquetas\n",
    "plt.title(\"Boxplots de varias velocidades\", fontsize=16)\n",
    "plt.xlabel(\"Velocidades\", fontsize=12)\n",
    "plt.ylabel(\"Valor\", fontsize=12)\n",
    "\n",
    "# Mostrar el gráfico\n",
    "plt.xticks(rotation=90)\n",
    "plt.show()"
   ]
  },
  {
   "cell_type": "code",
   "execution_count": null,
   "metadata": {},
   "outputs": [],
   "source": [
    "outlines_1 = detectar_outliers(datos_2, '+ 512 Kbps - 1 Mbps')\n",
    "outlines_2 = detectar_outliers(datos_2, '+ 10 Mbps - 20 Mbps')"
   ]
  },
  {
   "cell_type": "code",
   "execution_count": null,
   "metadata": {},
   "outputs": [],
   "source": [
    "# No se Corregiran Outlier ya que al estar al comienzo y al final del periodo, tienen tendencia normal de subida y bajada"
   ]
  },
  {
   "cell_type": "markdown",
   "metadata": {},
   "source": [
    "<span style=\"color: rgb(94,154,171); font-size: 13px;\">**SANTIAGO DEL ESTERO**</span>"
   ]
  },
  {
   "cell_type": "code",
   "execution_count": null,
   "metadata": {},
   "outputs": [],
   "source": [
    "datos_2 =df_Acceso_rango_provincia[df_Acceso_rango_provincia['Provincia'] == 'Santiago Del Estero']\n",
    "datos_2 = datos_2[['HASTA 512 kbps', '+ 512 Kbps - 1 Mbps','+ 1 Mbps - 6 Mbps', '+ 6 Mbps - 10 Mbps', '+ 10 Mbps - 20 Mbps', '+ 20 Mbps - 30 Mbps', '+ 30 Mbps', 'OTROS', 'Total']]\n",
    "\n",
    "# Crear un DataFrame en formato largo para generar boxplots combinados\n",
    "\n",
    "df_melted = datos_2.melt()\n",
    "\n",
    "# Generar un solo gráfico con boxplots de todas las columnas\n",
    "plt.figure(figsize=(12, 8))\n",
    "sns.boxplot(x='variable', y='value', data=df_melted)\n",
    "\n",
    "# Añadir títulos y etiquetas\n",
    "plt.title(\"Boxplots de varias velocidades\", fontsize=16)\n",
    "plt.xlabel(\"Velocidades\", fontsize=12)\n",
    "plt.ylabel(\"Valor\", fontsize=12)\n",
    "\n",
    "# Mostrar el gráfico\n",
    "plt.xticks(rotation=90)\n",
    "plt.show()"
   ]
  },
  {
   "cell_type": "code",
   "execution_count": null,
   "metadata": {},
   "outputs": [],
   "source": [
    "outlines_1 = detectar_outliers(datos_2, 'HASTA 512 kbps')\n",
    "outlines_2 = detectar_outliers(datos_2, '+ 1 Mbps - 6 Mbps')\n",
    "outlines_3 = detectar_outliers(datos_2, '+ 10 Mbps - 20 Mbps')\n",
    "outlines_4 = detectar_outliers(datos_2, '+ 20 Mbps - 30 Mbps')\n",
    "outlines_5 = detectar_outliers(datos_2, '+ 30 Mbps')\n",
    "outlines_4 = detectar_outliers(datos_2, 'OTROS')"
   ]
  },
  {
   "cell_type": "code",
   "execution_count": null,
   "metadata": {},
   "outputs": [],
   "source": [
    "plt.figure(figsize=(8, 1))\n",
    "sns.boxplot(data=datos_2, x='+ 1 Mbps - 6 Mbps', orient='h')\n",
    "media = datos_2['+ 1 Mbps - 6 Mbps'].mean()\n",
    "plt.scatter(media, 0, color='red', label='Media', zorder=3, s=50, marker='o')\n",
    "plt.xlabel(\"Cantidad Accesos\", fontsize=12)\n",
    "plt.title('+ 1 Mbps - 6 Mbps')\n",
    "plt.show()\n",
    "\n",
    "plt.figure(figsize=(8, 1))\n",
    "sns.boxplot(data=datos_2, x='+ 10 Mbps - 20 Mbps', orient='h')\n",
    "media = datos_2['+ 10 Mbps - 20 Mbps'].mean()\n",
    "plt.scatter(media, 0, color='red', label='Media', zorder=3, s=50, marker='o')\n",
    "plt.xlabel(\"Cantidad Accesos\", fontsize=12)\n",
    "plt.title('+ 10 Mbps - 20 Mbps')\n",
    "plt.show()\n",
    "\n",
    "\n",
    "\n"
   ]
  },
  {
   "cell_type": "code",
   "execution_count": null,
   "metadata": {},
   "outputs": [],
   "source": [
    "#Corregir Outlier\n",
    "datos_2.loc[outlines_2,'+ 1 Mbps - 6 Mbps'] = np.nan\n",
    "df_Acceso_rango_provincia.loc[outlines_2,'+ 1 Mbps - 6 Mbps'] = datos_2['+ 1 Mbps - 6 Mbps'].interpolate()\n",
    "\n",
    "#Corregir Outlier\n",
    "datos_2.loc[outlines_3,'+ 10 Mbps - 20 Mbps'] = np.nan\n",
    "df_Acceso_rango_provincia.loc[outlines_3,'+ 10 Mbps - 20 Mbps'] = datos_2['+ 10 Mbps - 20 Mbps'].interpolate()"
   ]
  },
  {
   "cell_type": "markdown",
   "metadata": {},
   "source": [
    "<span style=\"color: rgb(94,154,171); font-size: 13px;\">**TIERRA DEL FUEGO**</span>"
   ]
  },
  {
   "cell_type": "code",
   "execution_count": null,
   "metadata": {},
   "outputs": [],
   "source": [
    "datos_2 =df_Acceso_rango_provincia[df_Acceso_rango_provincia['Provincia'] == 'Tierra Del Fuego']\n",
    "datos_2 = datos_2[['HASTA 512 kbps', '+ 512 Kbps - 1 Mbps','+ 1 Mbps - 6 Mbps', '+ 6 Mbps - 10 Mbps', '+ 10 Mbps - 20 Mbps', '+ 20 Mbps - 30 Mbps', '+ 30 Mbps', 'OTROS', 'Total']]\n",
    "\n",
    "# Crear un DataFrame en formato largo para generar boxplots combinados\n",
    "\n",
    "df_melted = datos_2.melt()\n",
    "\n",
    "# Generar un solo gráfico con boxplots de todas las columnas\n",
    "plt.figure(figsize=(12, 8))\n",
    "sns.boxplot(x='variable', y='value', data=df_melted)\n",
    "\n",
    "# Añadir títulos y etiquetas\n",
    "plt.title(\"Boxplots de varias velocidades\", fontsize=16)\n",
    "plt.xlabel(\"Velocidades\", fontsize=12)\n",
    "plt.ylabel(\"Valor\", fontsize=12)\n",
    "\n",
    "# Mostrar el gráfico\n",
    "plt.xticks(rotation=90)\n",
    "plt.show()"
   ]
  },
  {
   "cell_type": "code",
   "execution_count": null,
   "metadata": {},
   "outputs": [],
   "source": [
    "outlines_1 = detectar_outliers(datos_2, '+ 20 Mbps - 30 Mbps')\n",
    "outlines_2 = detectar_outliers(datos_2, '+ 30 Mbps')"
   ]
  },
  {
   "cell_type": "markdown",
   "metadata": {},
   "source": [
    "<span style=\"color: rgb(94,154,171); font-size: 13px;\">**TUCUMAN**</span>"
   ]
  },
  {
   "cell_type": "code",
   "execution_count": null,
   "metadata": {},
   "outputs": [],
   "source": [
    "datos_2 =df_Acceso_rango_provincia[df_Acceso_rango_provincia['Provincia'] == 'Tucumán']\n",
    "datos_2 = datos_2[['HASTA 512 kbps', '+ 512 Kbps - 1 Mbps','+ 1 Mbps - 6 Mbps', '+ 6 Mbps - 10 Mbps', '+ 10 Mbps - 20 Mbps', '+ 20 Mbps - 30 Mbps', '+ 30 Mbps', 'OTROS', 'Total']]\n",
    "\n",
    "# Crear un DataFrame en formato largo para generar boxplots combinados\n",
    "\n",
    "df_melted = datos_2.melt()\n",
    "\n",
    "# Generar un solo gráfico con boxplots de todas las columnas\n",
    "plt.figure(figsize=(12, 8))\n",
    "sns.boxplot(x='variable', y='value', data=df_melted)\n",
    "\n",
    "# Añadir títulos y etiquetas\n",
    "plt.title(\"Boxplots de varias velocidades\", fontsize=16)\n",
    "plt.xlabel(\"Velocidades\", fontsize=12)\n",
    "plt.ylabel(\"Valor\", fontsize=12)\n",
    "\n",
    "# Mostrar el gráfico\n",
    "plt.xticks(rotation=90)\n",
    "plt.show()"
   ]
  },
  {
   "cell_type": "code",
   "execution_count": null,
   "metadata": {},
   "outputs": [],
   "source": [
    "outlines_1 = detectar_outliers(datos_2, '+ 512 Kbps - 1 Mbps')\n",
    "outlines_2 = detectar_outliers(datos_2, '+ 20 Mbps - 30 Mbps')\n",
    "outlines_3 = detectar_outliers(datos_2, 'OTROS')"
   ]
  },
  {
   "cell_type": "code",
   "execution_count": null,
   "metadata": {},
   "outputs": [],
   "source": [
    "df_vel_media_provincia"
   ]
  },
  {
   "cell_type": "markdown",
   "metadata": {},
   "source": [
    "<span style=\"color:  \trgb(59,134,150); font-size: 18px;\">**VELOCIDAD MEDIA POR PROVINCIA**</span>"
   ]
  },
  {
   "cell_type": "code",
   "execution_count": null,
   "metadata": {},
   "outputs": [],
   "source": [
    "print(df_vel_media_provincia.shape)\n",
    "print(df_vel_media_provincia.info())"
   ]
  },
  {
   "cell_type": "code",
   "execution_count": null,
   "metadata": {},
   "outputs": [],
   "source": [
    "df_vel_media_provincia.isnull().sum()"
   ]
  },
  {
   "cell_type": "code",
   "execution_count": null,
   "metadata": {},
   "outputs": [],
   "source": [
    "## Combinar Columnas Año y Trimestre a columna Fecha tipo datetime\n",
    "df_vel_media_provincia['Fecha'] = pd.to_datetime(df_vel_media_provincia['Año'].astype(str) + '-' + (df_vel_media_provincia['Trimestre']*3-2).astype(str) + '-1')\n",
    "df_vel_media_provincia.drop(columns=['Año','Trimestre'], inplace=True)"
   ]
  },
  {
   "cell_type": "code",
   "execution_count": null,
   "metadata": {},
   "outputs": [],
   "source": [
    "#redondeo a dos cifras decimales de la velocidad media\n",
    "df_vel_media_provincia.loc[:,'Mbps (Media de bajada)']= df_vel_media_provincia['Mbps (Media de bajada)'].round(2)"
   ]
  },
  {
   "cell_type": "code",
   "execution_count": null,
   "metadata": {},
   "outputs": [],
   "source": [
    "df_vel_media_provincia"
   ]
  },
  {
   "cell_type": "code",
   "execution_count": null,
   "metadata": {},
   "outputs": [],
   "source": [
    "#Reorganizar el dataframe con las provincias como columnas\n",
    "df_pivot = df_vel_media_provincia.pivot(index='Fecha', columns='Provincia', values= 'Mbps (Media de bajada)')"
   ]
  },
  {
   "cell_type": "code",
   "execution_count": null,
   "metadata": {},
   "outputs": [],
   "source": [
    "#Dividir en dos grupos las provincias para graficar las tendencias de crecimiento y observar si hay valores atipicos \n",
    "provincias = df_pivot.columns\n",
    "grupo1 = provincias[:len(provincias) // 2]\n",
    "grupo2 = provincias[len(provincias) // 2:]\n",
    "\n",
    "# Crear el primer gráfico\n",
    "plt.figure(figsize=(10, 6))\n",
    "for provincia in grupo1:\n",
    "    plt.plot(df_pivot.index, df_pivot[provincia], marker='o', label=provincia)\n",
    "plt.title(\"Velocidad por Provincia (Grupo 1)\", fontsize=14)\n",
    "plt.xlabel(\"Fecha\", fontsize=12)\n",
    "plt.ylabel(\"Velocidad\", fontsize=12)\n",
    "plt.legend(title=\"Provincias\", loc=\"center left\", bbox_to_anchor=(1, 0.5))\n",
    "plt.grid(True, linestyle=\"--\", alpha=0.6)\n",
    "plt.xticks(rotation=45)\n",
    "plt.tight_layout()\n",
    "plt.show()\n",
    "\n",
    "# Crear el segundo gráfico\n",
    "plt.figure(figsize=(10, 6))\n",
    "for provincia in grupo2:\n",
    "    plt.plot(df_pivot.index, df_pivot[provincia], marker='o', label=provincia)\n",
    "plt.title(\"Velocidad por Provincia (Grupo 2)\", fontsize=14)\n",
    "plt.xlabel(\"Fecha\", fontsize=12)\n",
    "plt.ylabel(\"Velocidad\", fontsize=12)\n",
    "plt.legend(title=\"Provincias\", loc=\"center left\", bbox_to_anchor=(1, 0.5))\n",
    "plt.grid(True, linestyle=\"--\", alpha=0.6)\n",
    "plt.xticks(rotation=45)\n",
    "plt.tight_layout()\n",
    "plt.show()"
   ]
  },
  {
   "cell_type": "markdown",
   "metadata": {},
   "source": [
    "<span style=\"color:  \trgb(59,134,150); font-size: 18px;\">**TECNOLOGIAS POR PROVINCIA**</span>"
   ]
  },
  {
   "cell_type": "code",
   "execution_count": null,
   "metadata": {},
   "outputs": [],
   "source": [
    "print(df_tecnologia_provincia.shape)\n",
    "print(df_tecnologia_provincia.info())"
   ]
  },
  {
   "cell_type": "code",
   "execution_count": null,
   "metadata": {},
   "outputs": [],
   "source": [
    "df_tecnologia_provincia.isnull().sum()"
   ]
  },
  {
   "cell_type": "code",
   "execution_count": null,
   "metadata": {},
   "outputs": [],
   "source": [
    "df_tecnologia_provincia\n"
   ]
  },
  {
   "cell_type": "code",
   "execution_count": null,
   "metadata": {},
   "outputs": [],
   "source": [
    "#Se eliminan las dos ultimas filas\n",
    "\n",
    "df_tecnologia_provincia = df_tecnologia_provincia.drop(df_tecnologia_provincia.tail(2).index)"
   ]
  },
  {
   "cell_type": "code",
   "execution_count": null,
   "metadata": {},
   "outputs": [],
   "source": [
    "#se observa en el dataset valores con asteriscos\n",
    "\n",
    "df_tecnologia_provincia['Año'] = df_tecnologia_provincia['Año'].replace({r'\\*': ''}, regex=True)\n",
    "df_tecnologia_provincia['Año'] = pd.to_numeric(df_tecnologia_provincia['Año'], errors='coerce')\n",
    "\n",
    "df_tecnologia_provincia['Trimestre'] = df_tecnologia_provincia['Trimestre'].replace({r'\\*': ''}, regex=True)\n",
    "df_tecnologia_provincia['Trimestre'] = pd.to_numeric(df_tecnologia_provincia['Trimestre'], errors='coerce')"
   ]
  },
  {
   "cell_type": "code",
   "execution_count": null,
   "metadata": {},
   "outputs": [],
   "source": [
    "# Se convierte los valores a Numericos\n",
    "df_tecnologia_provincia['Año'] = pd.to_numeric(df_tecnologia_provincia['Año'])\n",
    "df_tecnologia_provincia['Trimestre'] = pd.to_numeric(df_tecnologia_provincia['Trimestre'])"
   ]
  },
  {
   "cell_type": "code",
   "execution_count": null,
   "metadata": {},
   "outputs": [],
   "source": [
    "#Combinar Columnas Año y Trimestre a columna Fecha tipo datetime\n",
    "# Asegúrate de que las columnas sean enteros\n",
    "df_tecnologia_provincia['Año'] = df_tecnologia_provincia['Año'].astype(int)\n",
    "df_tecnologia_provincia['Trimestre'] = df_tecnologia_provincia['Trimestre'].astype(int)\n",
    "\n",
    "df_tecnologia_provincia['Fecha'] = pd.to_datetime(df_tecnologia_provincia['Año'].astype(str) + '-' + (df_tecnologia_provincia['Trimestre'] * 3 - 2).astype(str) + '-1')\n",
    "\n",
    "# Eliminar las columnas originales\n",
    "df_tecnologia_provincia.drop(columns=['Año', 'Trimestre'], inplace=True)"
   ]
  },
  {
   "cell_type": "code",
   "execution_count": null,
   "metadata": {},
   "outputs": [],
   "source": [
    "df_tecnologia_provincia"
   ]
  },
  {
   "cell_type": "markdown",
   "metadata": {},
   "source": [
    "<span style=\"color: rgb(94,154,171); font-size: 16px;\">**OUTLIERS**</span>\n",
    "\n"
   ]
  },
  {
   "cell_type": "code",
   "execution_count": null,
   "metadata": {},
   "outputs": [],
   "source": [
    "#SE graficaran las tendencias de tecnologias para observar outliers visualmente. se separaran las provincoias en dos Grupos\n",
    "tecnologias = ['ADSL', 'Cablemodem', 'Fibra óptica', 'Wireless', 'Otros', 'Total' ]\n",
    "data = df_tecnologia_provincia\n",
    "# Dividir las provincias en dos grupos\n",
    "provincias = data['Provincia'].unique()\n",
    "grupo_1 = provincias[:len(provincias)//2]  # Primera mitad\n",
    "grupo_2 = provincias[len(provincias)//2:]  # Segunda mitad\n",
    "\n",
    "# Función para graficar un grupo de provincias\n",
    "def graficar_tendencias(tecnologia, grupo_provincias, grupo_num):\n",
    "    plt.figure(figsize=(12, 6))\n",
    "    for provincia in grupo_provincias:\n",
    "        provincia_data = data[data['Provincia'] == provincia]\n",
    "        plt.plot(provincia_data['Fecha'], provincia_data[tecnologia], label=provincia)\n",
    "    \n",
    "    plt.title(f\"Tendencia de {tecnologia} - Grupo {grupo_num}\")\n",
    "    plt.xlabel(\"Fecha\")\n",
    "    plt.ylabel(f\"Conexiones de {tecnologia}\")\n",
    "    plt.legend(bbox_to_anchor=(1.05, 1), loc='upper left')\n",
    "    plt.grid(True)\n",
    "    plt.tight_layout()\n",
    "    plt.show()\n",
    "\n",
    "# Graficar por tecnología y por grupo de provincias\n",
    "for tecnologia in tecnologias:\n",
    "    graficar_tendencias(tecnologia, grupo_1, 1)\n",
    "    graficar_tendencias(tecnologia, grupo_2, 2)"
   ]
  },
  {
   "cell_type": "markdown",
   "metadata": {},
   "source": [
    "<span style=\"color:  \trgb(59,134,150); font-size: 18px;\">**INGRESOS TOTALES**</span>"
   ]
  },
  {
   "cell_type": "code",
   "execution_count": null,
   "metadata": {},
   "outputs": [],
   "source": [
    "#Ver Forma y Caracteristicas de los datasets\n",
    "print(df_ingresos_total.shape)\n",
    "print(df_ingresos_total.info())"
   ]
  },
  {
   "cell_type": "code",
   "execution_count": null,
   "metadata": {},
   "outputs": [],
   "source": [
    "## Combinar Columnas Año y Trimestre a columna Fecha tipo datetime\n",
    "df_ingresos_total['Fecha'] = pd.to_datetime(df_ingresos_total['Año'].astype(str) + '-' + (df_ingresos_total['Trimestre']*3-2).astype(str) + '-1')\n",
    "df_ingresos_total.drop(columns=['Año','Trimestre'], inplace=True)\n"
   ]
  },
  {
   "cell_type": "code",
   "execution_count": null,
   "metadata": {},
   "outputs": [],
   "source": [
    "# Redondear la columna 'Ingresos (miles de pesos)' a dos cifras decimales\n",
    "df_ingresos_total['Ingresos (miles de pesos)'] = df_ingresos_total['Ingresos (miles de pesos)'].round(2)"
   ]
  },
  {
   "cell_type": "code",
   "execution_count": null,
   "metadata": {},
   "outputs": [],
   "source": [
    "plt.figure(figsize=(12, 6))\n",
    "plt.plot(df_ingresos_total['Fecha'], df_ingresos_total['Ingresos (miles de pesos)'], marker='o', linestyle='-')\n",
    "plt.title('Tendencia de los Ingresos (miles de pesos)', fontsize=14)\n",
    "plt.xlabel('Fecha', fontsize=12)\n",
    "plt.ylabel('Ingresos (miles de pesos)', fontsize=12)\n",
    "plt.grid(True)\n",
    "plt.xticks(rotation=45)\n",
    "plt.tight_layout()\n",
    "\n",
    "# Mostrar el gráfico\n",
    "plt.show()"
   ]
  },
  {
   "cell_type": "code",
   "execution_count": null,
   "metadata": {},
   "outputs": [],
   "source": [
    "#Se observa un registro erroneo en el año\n",
    "\n",
    "# Corregir el año en la fila 4\n",
    "df_ingresos_total.loc[4, 'Fecha'] = pd.to_datetime('2023-01-01')\n",
    "\n"
   ]
  },
  {
   "cell_type": "code",
   "execution_count": null,
   "metadata": {},
   "outputs": [],
   "source": [
    "plt.figure(figsize=(12, 6))\n",
    "plt.plot(df_ingresos_total['Fecha'], df_ingresos_total['Ingresos (miles de pesos)'], marker='o', linestyle='-')\n",
    "plt.title('Tendencia de los Ingresos (miles de pesos)', fontsize=14)\n",
    "plt.xlabel('Fecha', fontsize=12)\n",
    "plt.ylabel('Ingresos (miles de pesos)', fontsize=12)\n",
    "plt.grid(True)\n",
    "plt.xticks(rotation=45)\n",
    "plt.tight_layout()\n",
    "\n",
    "# Mostrar el gráfico\n",
    "plt.show()"
   ]
  },
  {
   "cell_type": "code",
   "execution_count": null,
   "metadata": {},
   "outputs": [],
   "source": [
    "# Guardar los datasets\n",
    "\n",
    "\n",
    "df_ingresos_total.to_csv('./Datasets/ingresos_total.csv', index=False)\n",
    "df_vel_media_provincia.to_csv('./Datasets/vel_media_provincia.csv', index=False)\n",
    "df_tecnologia_provincia.to_csv('./Datasets/tecnologia_provincia.csv', index=False)\n",
    "df_penetracion_poblac.to_csv('./Datasets/penetracion_poblac.csv', index=False)\n",
    "df_penetracion_hogar.to_csv('./Datasets/penetracion_hogar.csv', index=False)\n",
    "df_Acceso_rango_provincia.to_csv('./Datasets/Acceso_rango_provincia.csv', index=False)\n"
   ]
  },
  {
   "cell_type": "code",
   "execution_count": null,
   "metadata": {},
   "outputs": [],
   "source": []
  }
 ],
 "metadata": {
  "kernelspec": {
   "display_name": "venv",
   "language": "python",
   "name": "python3"
  },
  "language_info": {
   "codemirror_mode": {
    "name": "ipython",
    "version": 3
   },
   "file_extension": ".py",
   "mimetype": "text/x-python",
   "name": "python",
   "nbconvert_exporter": "python",
   "pygments_lexer": "ipython3",
   "version": "3.8.4"
  }
 },
 "nbformat": 4,
 "nbformat_minor": 2
}
